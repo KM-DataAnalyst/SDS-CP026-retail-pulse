{
 "cells": [
  {
   "cell_type": "markdown",
   "id": "d2d07dc8",
   "metadata": {},
   "source": [
    "# Super Data Science Community Project #26\n",
    "Retail Pulse: Customer Journey Prediction & Marketing Impact Analysis!!!\n"
   ]
  },
  {
   "cell_type": "code",
   "execution_count": 8,
   "id": "bf381462",
   "metadata": {},
   "outputs": [],
   "source": [
    "# load the usual libraries\n",
    "import numpy as np\n",
    "import pandas as pd\n",
    "import matplotlib.pyplot as plt\n",
    "import seaborn as sns\n",
    "\n",
    "sns.set_theme(style=\"whitegrid\")"
   ]
  },
  {
   "cell_type": "markdown",
   "id": "8d989f8a",
   "metadata": {},
   "source": [
    "Loading the data and a quick examination of the structure of the dataframe. Automatically parse the 'Date' column as a date; information was seen from the dataset summary"
   ]
  },
  {
   "cell_type": "code",
   "execution_count": 9,
   "id": "d39eba71",
   "metadata": {},
   "outputs": [
    {
     "data": {
      "application/vnd.microsoft.datawrangler.viewer.v0+json": {
       "columns": [
        {
         "name": "index",
         "rawType": "int64",
         "type": "integer"
        },
        {
         "name": "Cus.ID",
         "rawType": "int64",
         "type": "integer"
        },
        {
         "name": "Date",
         "rawType": "datetime64[ns]",
         "type": "datetime"
        },
        {
         "name": "Cus. Location",
         "rawType": "object",
         "type": "string"
        },
        {
         "name": "Age",
         "rawType": "int64",
         "type": "integer"
        },
        {
         "name": "Gender",
         "rawType": "object",
         "type": "string"
        },
        {
         "name": "Mobile Name",
         "rawType": "object",
         "type": "string"
        },
        {
         "name": "Sell Price",
         "rawType": "float64",
         "type": "float"
        },
        {
         "name": "Does he/she Come from Facebook Page?",
         "rawType": "object",
         "type": "string"
        },
        {
         "name": "Does he/she Followed Our Page?",
         "rawType": "object",
         "type": "string"
        },
        {
         "name": "Did he/she buy any mobile before?",
         "rawType": "object",
         "type": "string"
        },
        {
         "name": "Did he/she hear of our shop before?",
         "rawType": "object",
         "type": "string"
        }
       ],
       "ref": "86f52d7c-b204-41b3-9fe8-6d74ab44cc63",
       "rows": [
        [
         "0",
         "1",
         "2024-05-27 00:00:00",
         "Rangamati Sadar",
         "49",
         "F",
         "Galaxy A55 5G 8/128",
         "17073.0",
         "No",
         "Yes",
         "No",
         "Yes"
        ],
        [
         "1",
         "2",
         "2024-05-27 00:00:00",
         "Inside Rangamati",
         "44",
         "M",
         "Redmi Note 12 Pro 8/128",
         "15546.0",
         "Yes",
         "No",
         "No",
         "Yes"
        ],
        [
         "2",
         "3",
         "2024-05-27 00:00:00",
         "Rangamati Sadar",
         "45",
         "M",
         "R-70 Turbo 5G 6/128",
         "26516.0",
         "Yes",
         "No",
         "No",
         "Yes"
        ],
        [
         "3",
         "4",
         "2024-05-27 00:00:00",
         "Rangamati Sadar",
         "46",
         "M",
         "R-70 Turbo 5G 6/128",
         "21927.0",
         "No",
         "No",
         "No",
         "Yes"
        ],
        [
         "4",
         "5",
         "2024-05-27 00:00:00",
         "Outside Rangamati",
         "27",
         "F",
         "Vivo T3x 5G 8/128",
         "16718.0",
         "Yes",
         "No",
         "No",
         "Yes"
        ]
       ],
       "shape": {
        "columns": 11,
        "rows": 5
       }
      },
      "text/html": [
       "<div>\n",
       "<style scoped>\n",
       "    .dataframe tbody tr th:only-of-type {\n",
       "        vertical-align: middle;\n",
       "    }\n",
       "\n",
       "    .dataframe tbody tr th {\n",
       "        vertical-align: top;\n",
       "    }\n",
       "\n",
       "    .dataframe thead th {\n",
       "        text-align: right;\n",
       "    }\n",
       "</style>\n",
       "<table border=\"1\" class=\"dataframe\">\n",
       "  <thead>\n",
       "    <tr style=\"text-align: right;\">\n",
       "      <th></th>\n",
       "      <th>Cus.ID</th>\n",
       "      <th>Date</th>\n",
       "      <th>Cus. Location</th>\n",
       "      <th>Age</th>\n",
       "      <th>Gender</th>\n",
       "      <th>Mobile Name</th>\n",
       "      <th>Sell Price</th>\n",
       "      <th>Does he/she Come from Facebook Page?</th>\n",
       "      <th>Does he/she Followed Our Page?</th>\n",
       "      <th>Did he/she buy any mobile before?</th>\n",
       "      <th>Did he/she hear of our shop before?</th>\n",
       "    </tr>\n",
       "  </thead>\n",
       "  <tbody>\n",
       "    <tr>\n",
       "      <th>0</th>\n",
       "      <td>1</td>\n",
       "      <td>2024-05-27</td>\n",
       "      <td>Rangamati Sadar</td>\n",
       "      <td>49</td>\n",
       "      <td>F</td>\n",
       "      <td>Galaxy A55 5G 8/128</td>\n",
       "      <td>17073.0</td>\n",
       "      <td>No</td>\n",
       "      <td>Yes</td>\n",
       "      <td>No</td>\n",
       "      <td>Yes</td>\n",
       "    </tr>\n",
       "    <tr>\n",
       "      <th>1</th>\n",
       "      <td>2</td>\n",
       "      <td>2024-05-27</td>\n",
       "      <td>Inside Rangamati</td>\n",
       "      <td>44</td>\n",
       "      <td>M</td>\n",
       "      <td>Redmi Note 12 Pro 8/128</td>\n",
       "      <td>15546.0</td>\n",
       "      <td>Yes</td>\n",
       "      <td>No</td>\n",
       "      <td>No</td>\n",
       "      <td>Yes</td>\n",
       "    </tr>\n",
       "    <tr>\n",
       "      <th>2</th>\n",
       "      <td>3</td>\n",
       "      <td>2024-05-27</td>\n",
       "      <td>Rangamati Sadar</td>\n",
       "      <td>45</td>\n",
       "      <td>M</td>\n",
       "      <td>R-70 Turbo 5G 6/128</td>\n",
       "      <td>26516.0</td>\n",
       "      <td>Yes</td>\n",
       "      <td>No</td>\n",
       "      <td>No</td>\n",
       "      <td>Yes</td>\n",
       "    </tr>\n",
       "    <tr>\n",
       "      <th>3</th>\n",
       "      <td>4</td>\n",
       "      <td>2024-05-27</td>\n",
       "      <td>Rangamati Sadar</td>\n",
       "      <td>46</td>\n",
       "      <td>M</td>\n",
       "      <td>R-70 Turbo 5G 6/128</td>\n",
       "      <td>21927.0</td>\n",
       "      <td>No</td>\n",
       "      <td>No</td>\n",
       "      <td>No</td>\n",
       "      <td>Yes</td>\n",
       "    </tr>\n",
       "    <tr>\n",
       "      <th>4</th>\n",
       "      <td>5</td>\n",
       "      <td>2024-05-27</td>\n",
       "      <td>Outside Rangamati</td>\n",
       "      <td>27</td>\n",
       "      <td>F</td>\n",
       "      <td>Vivo T3x 5G 8/128</td>\n",
       "      <td>16718.0</td>\n",
       "      <td>Yes</td>\n",
       "      <td>No</td>\n",
       "      <td>No</td>\n",
       "      <td>Yes</td>\n",
       "    </tr>\n",
       "  </tbody>\n",
       "</table>\n",
       "</div>"
      ],
      "text/plain": [
       "   Cus.ID       Date      Cus. Location  Age Gender              Mobile Name  \\\n",
       "0       1 2024-05-27    Rangamati Sadar   49      F      Galaxy A55 5G 8/128   \n",
       "1       2 2024-05-27   Inside Rangamati   44      M  Redmi Note 12 Pro 8/128   \n",
       "2       3 2024-05-27    Rangamati Sadar   45      M      R-70 Turbo 5G 6/128   \n",
       "3       4 2024-05-27    Rangamati Sadar   46      M      R-70 Turbo 5G 6/128   \n",
       "4       5 2024-05-27  Outside Rangamati   27      F        Vivo T3x 5G 8/128   \n",
       "\n",
       "   Sell Price Does he/she Come from Facebook Page?  \\\n",
       "0     17073.0                                   No   \n",
       "1     15546.0                                  Yes   \n",
       "2     26516.0                                  Yes   \n",
       "3     21927.0                                   No   \n",
       "4     16718.0                                  Yes   \n",
       "\n",
       "  Does he/she Followed Our Page? Did he/she buy any mobile before?  \\\n",
       "0                            Yes                                No   \n",
       "1                             No                                No   \n",
       "2                             No                                No   \n",
       "3                             No                                No   \n",
       "4                             No                                No   \n",
       "\n",
       "  Did he/she hear of our shop before?  \n",
       "0                                 Yes  \n",
       "1                                 Yes  \n",
       "2                                 Yes  \n",
       "3                                 Yes  \n",
       "4                                 Yes  "
      ]
     },
     "execution_count": 9,
     "metadata": {},
     "output_type": "execute_result"
    }
   ],
   "source": [
    "dataset = pd.read_csv(r'.\\data\\TechCorner_Sales_update.csv', parse_dates=['Date'], dayfirst=True)\n",
    "dataset.head()"
   ]
  },
  {
   "cell_type": "markdown",
   "id": "5b45f3a0",
   "metadata": {},
   "source": [
    "Summarise the structure of the data set and determine if there are any missing values and the type of the data in each column."
   ]
  },
  {
   "cell_type": "code",
   "execution_count": 10,
   "id": "b172a0bf",
   "metadata": {},
   "outputs": [
    {
     "name": "stdout",
     "output_type": "stream",
     "text": [
      "<class 'pandas.core.frame.DataFrame'>\n",
      "RangeIndex: 8871 entries, 0 to 8870\n",
      "Data columns (total 11 columns):\n",
      " #   Column                                Non-Null Count  Dtype         \n",
      "---  ------                                --------------  -----         \n",
      " 0   Cus.ID                                8871 non-null   int64         \n",
      " 1   Date                                  8871 non-null   datetime64[ns]\n",
      " 2   Cus. Location                         8871 non-null   object        \n",
      " 3   Age                                   8871 non-null   int64         \n",
      " 4   Gender                                8871 non-null   object        \n",
      " 5   Mobile Name                           8871 non-null   object        \n",
      " 6   Sell Price                            8871 non-null   float64       \n",
      " 7   Does he/she Come from Facebook Page?  8871 non-null   object        \n",
      " 8   Does he/she Followed Our Page?        8871 non-null   object        \n",
      " 9   Did he/she buy any mobile before?     8871 non-null   object        \n",
      " 10  Did he/she hear of our shop before?   8871 non-null   object        \n",
      "dtypes: datetime64[ns](1), float64(1), int64(2), object(7)\n",
      "memory usage: 762.5+ KB\n"
     ]
    }
   ],
   "source": [
    "# Check the summary of the dataset\n",
    "dataset.info()"
   ]
  },
  {
   "cell_type": "markdown",
   "id": "812efb1c",
   "metadata": {},
   "source": [
    "Dataset summary indicates that there are no missing values. The Cus.ID column will be dropped ax it is only a unique identifier and will not contribute to the analysis. Columns with long names are renamed to shortened forms for easier reference in code to follow"
   ]
  },
  {
   "cell_type": "code",
   "execution_count": 11,
   "id": "4d3d50f3",
   "metadata": {},
   "outputs": [
    {
     "name": "stdout",
     "output_type": "stream",
     "text": [
      "<class 'pandas.core.frame.DataFrame'>\n",
      "RangeIndex: 8871 entries, 0 to 8870\n",
      "Data columns (total 10 columns):\n",
      " #   Column           Non-Null Count  Dtype         \n",
      "---  ------           --------------  -----         \n",
      " 0   Date             8871 non-null   datetime64[ns]\n",
      " 1   Location         8871 non-null   object        \n",
      " 2   Age              8871 non-null   int64         \n",
      " 3   Gender           8871 non-null   object        \n",
      " 4   MobileName       8871 non-null   object        \n",
      " 5   SellPrice        8871 non-null   float64       \n",
      " 6   FromFacebook     8871 non-null   object        \n",
      " 7   FollowedPage     8871 non-null   object        \n",
      " 8   BoughtBefore     8871 non-null   object        \n",
      " 9   HeardShopBefore  8871 non-null   object        \n",
      "dtypes: datetime64[ns](1), float64(1), int64(1), object(7)\n",
      "memory usage: 693.2+ KB\n"
     ]
    }
   ],
   "source": [
    "# drop the Cus.ID column\n",
    "dataset.drop(columns=['Cus.ID'], inplace=True)\n",
    "dataset.rename(columns={\n",
    "    'Cus. Location': 'Location',\n",
    "    'Mobile Name' : 'MobileName',\n",
    "    'Sell Price' : 'SellPrice',\n",
    "    'Does he/she Come from Facebook Page?' : 'FromFacebook',\n",
    "    'Does he/she Followed Our Page?': 'FollowedPage',\n",
    "    'Did he/she buy any mobile before?': 'BoughtBefore',\n",
    "    'Did he/she hear of our shop before?': 'HeardShopBefore'\n",
    "    }, inplace=True)\n",
    "dataset.info()"
   ]
  },
  {
   "cell_type": "markdown",
   "id": "b52b6799",
   "metadata": {},
   "source": [
    "# Exploratory Data Analysis"
   ]
  },
  {
   "cell_type": "markdown",
   "id": "87afea6e",
   "metadata": {},
   "source": [
    "### Examine the distribution of the cutomers by locations"
   ]
  },
  {
   "cell_type": "code",
   "execution_count": 12,
   "id": "2b9972eb",
   "metadata": {},
   "outputs": [
    {
     "name": "stdout",
     "output_type": "stream",
     "text": [
      "Number of locations:  3\n",
      "Listing of the locations:  ['Rangamati Sadar', 'Inside Rangamati', 'Outside Rangamati']\n"
     ]
    }
   ],
   "source": [
    "# Cheack on the unique number of locations, important for later analysis\n",
    "print('Number of locations: ', len(dataset.Location.unique()))\n",
    "print('Listing of the locations: ', dataset.Location.unique().tolist())"
   ]
  },
  {
   "cell_type": "code",
   "execution_count": 13,
   "id": "1173fb6c",
   "metadata": {},
   "outputs": [
    {
     "data": {
      "image/png": "[encoded data removed]",
      "text/plain": [
       "<Figure size 640x480 with 1 Axes>"
      ]
     },
     "metadata": {},
     "output_type": "display_data"
    }
   ],
   "source": [
    "# Distribution Customers by Location\n",
    "plt.pie(dataset.Location.value_counts(), \n",
    "        labels=dataset.Location.unique(), \n",
    "        autopct='%1.1f%%', \n",
    "       )  # Explode the first slice (for example)\n",
    "plt.axis('equal')  # Equal aspect ratio ensures that pie is drawn as a circle.\n",
    "plt.title('Distribution of Customers by Location', {'fontweight':'bold', 'c': 'darkblue'})\n",
    "plt.show()"
   ]
  },
  {
   "cell_type": "markdown",
   "id": "a4ea8d82",
   "metadata": {},
   "source": [
    "Customers are equally distributed by location."
   ]
  },
  {
   "cell_type": "markdown",
   "id": "16b29b06",
   "metadata": {},
   "source": [
    "### Examine the demographic distribution of the customers"
   ]
  },
  {
   "cell_type": "code",
   "execution_count": 14,
   "id": "23d459f7",
   "metadata": {},
   "outputs": [
    {
     "data": {
      "image/png": "[encoded data removed]",
      "text/plain": [
       "<Figure size 640x480 with 1 Axes>"
      ]
     },
     "metadata": {},
     "output_type": "display_data"
    }
   ],
   "source": [
    "sns.histplot(dataset, x='Age', bins=30, stat='count')\n",
    "plt.title('Distribution of Customers by Age', {'fontweight':'bold', 'c': 'black'})\n",
    "plt.xlabel('Age')\n",
    "plt.ylabel('Number of Customers')\n",
    "plt.show()"
   ]
  },
  {
   "cell_type": "markdown",
   "id": "ac7cf5ee",
   "metadata": {},
   "source": [
    "A Bar plot shows that there are three distinct groups age groups of buyers 19yo, 35yo and 50yo who have made the most purchases. On average, the number of customers in all other age groups remain relatively consistent. Other summary statistics on the age follows:"
   ]
  },
  {
   "cell_type": "code",
   "execution_count": 15,
   "id": "f411b6b2",
   "metadata": {},
   "outputs": [
    {
     "name": "stdout",
     "output_type": "stream",
     "text": [
      "Mean of Age:  34.04700710179236\n",
      "Median of Age:  34.0\n",
      "Mode of Age:  49\n",
      "Standard deviation of Age:  9.592611528969623\n",
      "Minimum of Age:  18\n",
      "Maximum of Age:  50\n"
     ]
    }
   ],
   "source": [
    "import statistics as stats\n",
    "# Check the mean, median and mode of the Age column\n",
    "print('Mean of Age: ', dataset.Age.mean())\n",
    "print('Median of Age: ', dataset.Age.median())\n",
    "print('Mode of Age: ', stats.mode(dataset.Age))\n",
    "# check the standard deviation of the Age column\n",
    "print('Standard deviation of Age: ', dataset.Age.std())\n",
    "# check the minimum and maximum of the Age column\n",
    "print('Minimum of Age: ', dataset.Age.min())\n",
    "print('Maximum of Age: ', dataset.Age.max())"
   ]
  },
  {
   "cell_type": "markdown",
   "id": "c206db49",
   "metadata": {},
   "source": [
    "### Social media Responses of Customers"
   ]
  },
  {
   "cell_type": "code",
   "execution_count": 16,
   "id": "94be4cf3",
   "metadata": {},
   "outputs": [
    {
     "data": {
      "image/png": "[encoded data removed]",
      "text/plain": [
       "<Figure size 1500x1000 with 4 Axes>"
      ]
     },
     "metadata": {},
     "output_type": "display_data"
    }
   ],
   "source": [
    "social_media_responses = ['FromFacebook', 'FollowedPage', 'HeardShopBefore', 'BoughtBefore']\n",
    "plt.figure(figsize=(15,10))\n",
    "for i , responses in enumerate(social_media_responses, 1):\n",
    "    plt.subplot(2, 2, i)\n",
    "    sns.histplot(dataset, x=responses, bins=30, stat='probability', hue='Gender', multiple='stack')\n",
    "    plt.title(f'Distribution of Customers by {responses}', {'fontweight':'bold', 'c': 'black'})\n",
    "    plt.xlabel(responses)\n",
    "    plt.ylabel('Probability')\n",
    "plt.tight_layout()\n",
    "plt.show()"
   ]
  },
  {
   "cell_type": "markdown",
   "id": "13323a2e",
   "metadata": {},
   "source": [
    "The data shows an even distribution of male and female respondents with both genders accounting for approximately 50 percent (50%) of all responses. Other insights, 60 percent of customers did not hear about the shop from FaceBook, 60 percent did not follow on FaceBook. 60 percent of all customers who purchased have  heard of the shop before, while only 25 percent have bought a mobile device before."
   ]
  },
  {
   "cell_type": "markdown",
   "id": "ceaa93cf",
   "metadata": {},
   "source": [
    "### The buying habits of the customers"
   ]
  },
  {
   "cell_type": "code",
   "execution_count": 17,
   "id": "948cf22c",
   "metadata": {},
   "outputs": [
    {
     "data": {
      "image/png": "[encoded data removed]",
      "text/plain": [
       "<Figure size 640x480 with 1 Axes>"
      ]
     },
     "metadata": {},
     "output_type": "display_data"
    }
   ],
   "source": [
    "sns.scatterplot(data=dataset, x='Age', y='SellPrice', hue='Location')\n",
    "plt.title('Scatterplot of Age vs Sell Price', {'fontweight':'bold', 'c': 'black'})\n",
    "plt.xlabel('Age')\n",
    "plt.ylabel('Sell Price')\n",
    "plt.legend(title='Location', loc=(1.05, 0.5), fontsize='small', title_fontsize='medium')\n",
    "plt.show()"
   ]
  },
  {
   "cell_type": "markdown",
   "id": "ff29d969",
   "metadata": {},
   "source": [
    "There is no clear distinct pattern in the price of the mobile device and the age demographic of the buyers."
   ]
  },
  {
   "cell_type": "markdown",
   "id": "b98dcf6c",
   "metadata": {},
   "source": [
    "### Summarizing the Monthly Sales Data"
   ]
  },
  {
   "cell_type": "code",
   "execution_count": 18,
   "id": "7449f4a9",
   "metadata": {},
   "outputs": [
    {
     "data": {
      "image/png": "[encoded data removed]",
      "text/plain": [
       "<Figure size 640x480 with 1 Axes>"
      ]
     },
     "metadata": {},
     "output_type": "display_data"
    }
   ],
   "source": [
    "dataset['Month_Year'] = dataset['Date'].dt.to_period('M')\n",
    "sales_by_month = dataset.groupby(['Month_Year', 'Location']).agg({'SellPrice': 'sum'}).reset_index()\n",
    "sales_by_month['Month_Year'] = sales_by_month['Month_Year'].dt.to_timestamp()  # Convert to timestamp for plotting\n",
    "sns.lineplot(data=sales_by_month, x='Month_Year', y='SellPrice', hue='Location')\n",
    "plt.xlabel('Month-Year')\n",
    "plt.title('Monthly Sales Volume by Location', {'fontweight':'bold', 'c': 'black'})\n",
    "plt.xticks(rotation=45)\n",
    "plt.ylabel('Total Sales Volume')\n",
    "plt.show()\n"
   ]
  },
  {
   "cell_type": "code",
   "execution_count": 19,
   "id": "82a54113",
   "metadata": {},
   "outputs": [
    {
     "name": "stdout",
     "output_type": "stream",
     "text": [
      "2024-05-27 00:00:00\n",
      "2025-03-22 00:00:00\n"
     ]
    }
   ],
   "source": [
    "print(min(dataset['Date']))\n",
    "print(max(dataset['Date']))"
   ]
  },
  {
   "cell_type": "code",
   "execution_count": 20,
   "id": "1cc6e0cb",
   "metadata": {},
   "outputs": [
    {
     "name": "stdout",
     "output_type": "stream",
     "text": [
      "['Rangamati Sadar' 'Inside Rangamati' 'Outside Rangamati']\n"
     ]
    }
   ],
   "source": [
    "print(dataset.Location.unique())"
   ]
  },
  {
   "cell_type": "code",
   "execution_count": 21,
   "id": "6f718dfa",
   "metadata": {},
   "outputs": [
    {
     "data": {
      "application/vnd.microsoft.datawrangler.viewer.v0+json": {
       "columns": [
        {
         "name": "index",
         "rawType": "int64",
         "type": "integer"
        },
        {
         "name": "Date",
         "rawType": "datetime64[ns]",
         "type": "datetime"
        },
        {
         "name": "Location",
         "rawType": "object",
         "type": "string"
        },
        {
         "name": "Age",
         "rawType": "int64",
         "type": "integer"
        },
        {
         "name": "Gender",
         "rawType": "object",
         "type": "string"
        },
        {
         "name": "MobileName",
         "rawType": "object",
         "type": "string"
        },
        {
         "name": "SellPrice",
         "rawType": "float64",
         "type": "float"
        },
        {
         "name": "FromFacebook",
         "rawType": "object",
         "type": "string"
        },
        {
         "name": "FollowedPage",
         "rawType": "object",
         "type": "string"
        },
        {
         "name": "BoughtBefore",
         "rawType": "object",
         "type": "string"
        },
        {
         "name": "HeardShopBefore",
         "rawType": "object",
         "type": "string"
        },
        {
         "name": "Month_Year",
         "rawType": "period[M]",
         "type": "unknown"
        },
        {
         "name": "Region",
         "rawType": "object",
         "type": "string"
        }
       ],
       "ref": "f578438a-05a7-4de3-8fa7-7ecceafb2650",
       "rows": [
        [
         "0",
         "2024-05-27 00:00:00",
         "Rangamati Sadar",
         "49",
         "F",
         "Galaxy A55 5G 8/128",
         "17073.0",
         "No",
         "Yes",
         "No",
         "Yes",
         "2024-05",
         "Local"
        ],
        [
         "1",
         "2024-05-27 00:00:00",
         "Inside Rangamati",
         "44",
         "M",
         "Redmi Note 12 Pro 8/128",
         "15546.0",
         "Yes",
         "No",
         "No",
         "Yes",
         "2024-05",
         "Local"
        ],
        [
         "2",
         "2024-05-27 00:00:00",
         "Rangamati Sadar",
         "45",
         "M",
         "R-70 Turbo 5G 6/128",
         "26516.0",
         "Yes",
         "No",
         "No",
         "Yes",
         "2024-05",
         "Local"
        ],
        [
         "3",
         "2024-05-27 00:00:00",
         "Rangamati Sadar",
         "46",
         "M",
         "R-70 Turbo 5G 6/128",
         "21927.0",
         "No",
         "No",
         "No",
         "Yes",
         "2024-05",
         "Local"
        ],
        [
         "4",
         "2024-05-27 00:00:00",
         "Outside Rangamati",
         "27",
         "F",
         "Vivo T3x 5G 8/128",
         "16718.0",
         "Yes",
         "No",
         "No",
         "Yes",
         "2024-05",
         "Outside"
        ]
       ],
       "shape": {
        "columns": 12,
        "rows": 5
       }
      },
      "text/html": [
       "<div>\n",
       "<style scoped>\n",
       "    .dataframe tbody tr th:only-of-type {\n",
       "        vertical-align: middle;\n",
       "    }\n",
       "\n",
       "    .dataframe tbody tr th {\n",
       "        vertical-align: top;\n",
       "    }\n",
       "\n",
       "    .dataframe thead th {\n",
       "        text-align: right;\n",
       "    }\n",
       "</style>\n",
       "<table border=\"1\" class=\"dataframe\">\n",
       "  <thead>\n",
       "    <tr style=\"text-align: right;\">\n",
       "      <th></th>\n",
       "      <th>Date</th>\n",
       "      <th>Location</th>\n",
       "      <th>Age</th>\n",
       "      <th>Gender</th>\n",
       "      <th>MobileName</th>\n",
       "      <th>SellPrice</th>\n",
       "      <th>FromFacebook</th>\n",
       "      <th>FollowedPage</th>\n",
       "      <th>BoughtBefore</th>\n",
       "      <th>HeardShopBefore</th>\n",
       "      <th>Month_Year</th>\n",
       "      <th>Region</th>\n",
       "    </tr>\n",
       "  </thead>\n",
       "  <tbody>\n",
       "    <tr>\n",
       "      <th>0</th>\n",
       "      <td>2024-05-27</td>\n",
       "      <td>Rangamati Sadar</td>\n",
       "      <td>49</td>\n",
       "      <td>F</td>\n",
       "      <td>Galaxy A55 5G 8/128</td>\n",
       "      <td>17073.0</td>\n",
       "      <td>No</td>\n",
       "      <td>Yes</td>\n",
       "      <td>No</td>\n",
       "      <td>Yes</td>\n",
       "      <td>2024-05</td>\n",
       "      <td>Local</td>\n",
       "    </tr>\n",
       "    <tr>\n",
       "      <th>1</th>\n",
       "      <td>2024-05-27</td>\n",
       "      <td>Inside Rangamati</td>\n",
       "      <td>44</td>\n",
       "      <td>M</td>\n",
       "      <td>Redmi Note 12 Pro 8/128</td>\n",
       "      <td>15546.0</td>\n",
       "      <td>Yes</td>\n",
       "      <td>No</td>\n",
       "      <td>No</td>\n",
       "      <td>Yes</td>\n",
       "      <td>2024-05</td>\n",
       "      <td>Local</td>\n",
       "    </tr>\n",
       "    <tr>\n",
       "      <th>2</th>\n",
       "      <td>2024-05-27</td>\n",
       "      <td>Rangamati Sadar</td>\n",
       "      <td>45</td>\n",
       "      <td>M</td>\n",
       "      <td>R-70 Turbo 5G 6/128</td>\n",
       "      <td>26516.0</td>\n",
       "      <td>Yes</td>\n",
       "      <td>No</td>\n",
       "      <td>No</td>\n",
       "      <td>Yes</td>\n",
       "      <td>2024-05</td>\n",
       "      <td>Local</td>\n",
       "    </tr>\n",
       "    <tr>\n",
       "      <th>3</th>\n",
       "      <td>2024-05-27</td>\n",
       "      <td>Rangamati Sadar</td>\n",
       "      <td>46</td>\n",
       "      <td>M</td>\n",
       "      <td>R-70 Turbo 5G 6/128</td>\n",
       "      <td>21927.0</td>\n",
       "      <td>No</td>\n",
       "      <td>No</td>\n",
       "      <td>No</td>\n",
       "      <td>Yes</td>\n",
       "      <td>2024-05</td>\n",
       "      <td>Local</td>\n",
       "    </tr>\n",
       "    <tr>\n",
       "      <th>4</th>\n",
       "      <td>2024-05-27</td>\n",
       "      <td>Outside Rangamati</td>\n",
       "      <td>27</td>\n",
       "      <td>F</td>\n",
       "      <td>Vivo T3x 5G 8/128</td>\n",
       "      <td>16718.0</td>\n",
       "      <td>Yes</td>\n",
       "      <td>No</td>\n",
       "      <td>No</td>\n",
       "      <td>Yes</td>\n",
       "      <td>2024-05</td>\n",
       "      <td>Outside</td>\n",
       "    </tr>\n",
       "  </tbody>\n",
       "</table>\n",
       "</div>"
      ],
      "text/plain": [
       "        Date           Location  Age Gender               MobileName  \\\n",
       "0 2024-05-27    Rangamati Sadar   49      F      Galaxy A55 5G 8/128   \n",
       "1 2024-05-27   Inside Rangamati   44      M  Redmi Note 12 Pro 8/128   \n",
       "2 2024-05-27    Rangamati Sadar   45      M      R-70 Turbo 5G 6/128   \n",
       "3 2024-05-27    Rangamati Sadar   46      M      R-70 Turbo 5G 6/128   \n",
       "4 2024-05-27  Outside Rangamati   27      F        Vivo T3x 5G 8/128   \n",
       "\n",
       "   SellPrice FromFacebook FollowedPage BoughtBefore HeardShopBefore  \\\n",
       "0    17073.0           No          Yes           No             Yes   \n",
       "1    15546.0          Yes           No           No             Yes   \n",
       "2    26516.0          Yes           No           No             Yes   \n",
       "3    21927.0           No           No           No             Yes   \n",
       "4    16718.0          Yes           No           No             Yes   \n",
       "\n",
       "  Month_Year   Region  \n",
       "0    2024-05    Local  \n",
       "1    2024-05    Local  \n",
       "2    2024-05    Local  \n",
       "3    2024-05    Local  \n",
       "4    2024-05  Outside  "
      ]
     },
     "execution_count": 21,
     "metadata": {},
     "output_type": "execute_result"
    }
   ],
   "source": [
    "# determine the region of each transactions\n",
    "dataset['Region'] = dataset['Location'].apply(lambda x: 'Local' if x in ['Rangamati Sadar' ,'Inside Rangamati'] else 'Outside' )\n",
    "dataset.head()"
   ]
  },
  {
   "cell_type": "code",
   "execution_count": 22,
   "id": "8c101ff8",
   "metadata": {},
   "outputs": [
    {
     "data": {
      "application/vnd.microsoft.datawrangler.viewer.v0+json": {
       "columns": [
        {
         "name": "index",
         "rawType": "int64",
         "type": "integer"
        },
        {
         "name": "Month_Year",
         "rawType": "datetime64[ns]",
         "type": "datetime"
        },
        {
         "name": "Location",
         "rawType": "object",
         "type": "string"
        },
        {
         "name": "SellPrice",
         "rawType": "float64",
         "type": "float"
        }
       ],
       "ref": "92424340-9e7c-4fcb-8e9b-a1fd998561c0",
       "rows": [
        [
         "0",
         "2024-05-01 00:00:00",
         "Inside Rangamati",
         "1032131.0"
        ],
        [
         "1",
         "2024-05-01 00:00:00",
         "Outside Rangamati",
         "1359721.0"
        ],
        [
         "2",
         "2024-05-01 00:00:00",
         "Rangamati Sadar",
         "1286057.0"
        ],
        [
         "3",
         "2024-06-01 00:00:00",
         "Inside Rangamati",
         "7657318.0"
        ],
        [
         "4",
         "2024-06-01 00:00:00",
         "Outside Rangamati",
         "6584889.0"
        ],
        [
         "5",
         "2024-06-01 00:00:00",
         "Rangamati Sadar",
         "7855022.0"
        ],
        [
         "6",
         "2024-07-01 00:00:00",
         "Inside Rangamati",
         "7412785.0"
        ],
        [
         "7",
         "2024-07-01 00:00:00",
         "Outside Rangamati",
         "7069358.0"
        ],
        [
         "8",
         "2024-07-01 00:00:00",
         "Rangamati Sadar",
         "7936024.0"
        ],
        [
         "9",
         "2024-08-01 00:00:00",
         "Inside Rangamati",
         "6908576.0"
        ],
        [
         "10",
         "2024-08-01 00:00:00",
         "Outside Rangamati",
         "7752004.0"
        ],
        [
         "11",
         "2024-08-01 00:00:00",
         "Rangamati Sadar",
         "8020158.0"
        ],
        [
         "12",
         "2024-09-01 00:00:00",
         "Inside Rangamati",
         "8020703.0"
        ],
        [
         "13",
         "2024-09-01 00:00:00",
         "Outside Rangamati",
         "7571521.0"
        ],
        [
         "14",
         "2024-09-01 00:00:00",
         "Rangamati Sadar",
         "8327971.0"
        ],
        [
         "15",
         "2024-10-01 00:00:00",
         "Inside Rangamati",
         "7970216.0"
        ],
        [
         "16",
         "2024-10-01 00:00:00",
         "Outside Rangamati",
         "8491493.0"
        ],
        [
         "17",
         "2024-10-01 00:00:00",
         "Rangamati Sadar",
         "6993275.0"
        ],
        [
         "18",
         "2024-11-01 00:00:00",
         "Inside Rangamati",
         "6560483.0"
        ],
        [
         "19",
         "2024-11-01 00:00:00",
         "Outside Rangamati",
         "6943542.0"
        ],
        [
         "20",
         "2024-11-01 00:00:00",
         "Rangamati Sadar",
         "6888314.0"
        ],
        [
         "21",
         "2024-12-01 00:00:00",
         "Inside Rangamati",
         "7451925.0"
        ],
        [
         "22",
         "2024-12-01 00:00:00",
         "Outside Rangamati",
         "8146610.0"
        ],
        [
         "23",
         "2024-12-01 00:00:00",
         "Rangamati Sadar",
         "7422558.0"
        ],
        [
         "24",
         "2025-01-01 00:00:00",
         "Inside Rangamati",
         "6707924.0"
        ],
        [
         "25",
         "2025-01-01 00:00:00",
         "Outside Rangamati",
         "7303219.0"
        ],
        [
         "26",
         "2025-01-01 00:00:00",
         "Rangamati Sadar",
         "7941399.0"
        ],
        [
         "27",
         "2025-02-01 00:00:00",
         "Inside Rangamati",
         "7411204.0"
        ],
        [
         "28",
         "2025-02-01 00:00:00",
         "Outside Rangamati",
         "7363906.0"
        ],
        [
         "29",
         "2025-02-01 00:00:00",
         "Rangamati Sadar",
         "7022962.0"
        ],
        [
         "30",
         "2025-03-01 00:00:00",
         "Inside Rangamati",
         "4953856.0"
        ],
        [
         "31",
         "2025-03-01 00:00:00",
         "Outside Rangamati",
         "5972693.0"
        ],
        [
         "32",
         "2025-03-01 00:00:00",
         "Rangamati Sadar",
         "6041840.0"
        ]
       ],
       "shape": {
        "columns": 3,
        "rows": 33
       }
      },
      "text/html": [
       "<div>\n",
       "<style scoped>\n",
       "    .dataframe tbody tr th:only-of-type {\n",
       "        vertical-align: middle;\n",
       "    }\n",
       "\n",
       "    .dataframe tbody tr th {\n",
       "        vertical-align: top;\n",
       "    }\n",
       "\n",
       "    .dataframe thead th {\n",
       "        text-align: right;\n",
       "    }\n",
       "</style>\n",
       "<table border=\"1\" class=\"dataframe\">\n",
       "  <thead>\n",
       "    <tr style=\"text-align: right;\">\n",
       "      <th></th>\n",
       "      <th>Month_Year</th>\n",
       "      <th>Location</th>\n",
       "      <th>SellPrice</th>\n",
       "    </tr>\n",
       "  </thead>\n",
       "  <tbody>\n",
       "    <tr>\n",
       "      <th>0</th>\n",
       "      <td>2024-05-01</td>\n",
       "      <td>Inside Rangamati</td>\n",
       "      <td>1032131.0</td>\n",
       "    </tr>\n",
       "    <tr>\n",
       "      <th>1</th>\n",
       "      <td>2024-05-01</td>\n",
       "      <td>Outside Rangamati</td>\n",
       "      <td>1359721.0</td>\n",
       "    </tr>\n",
       "    <tr>\n",
       "      <th>2</th>\n",
       "      <td>2024-05-01</td>\n",
       "      <td>Rangamati Sadar</td>\n",
       "      <td>1286057.0</td>\n",
       "    </tr>\n",
       "    <tr>\n",
       "      <th>3</th>\n",
       "      <td>2024-06-01</td>\n",
       "      <td>Inside Rangamati</td>\n",
       "      <td>7657318.0</td>\n",
       "    </tr>\n",
       "    <tr>\n",
       "      <th>4</th>\n",
       "      <td>2024-06-01</td>\n",
       "      <td>Outside Rangamati</td>\n",
       "      <td>6584889.0</td>\n",
       "    </tr>\n",
       "    <tr>\n",
       "      <th>5</th>\n",
       "      <td>2024-06-01</td>\n",
       "      <td>Rangamati Sadar</td>\n",
       "      <td>7855022.0</td>\n",
       "    </tr>\n",
       "    <tr>\n",
       "      <th>6</th>\n",
       "      <td>2024-07-01</td>\n",
       "      <td>Inside Rangamati</td>\n",
       "      <td>7412785.0</td>\n",
       "    </tr>\n",
       "    <tr>\n",
       "      <th>7</th>\n",
       "      <td>2024-07-01</td>\n",
       "      <td>Outside Rangamati</td>\n",
       "      <td>7069358.0</td>\n",
       "    </tr>\n",
       "    <tr>\n",
       "      <th>8</th>\n",
       "      <td>2024-07-01</td>\n",
       "      <td>Rangamati Sadar</td>\n",
       "      <td>7936024.0</td>\n",
       "    </tr>\n",
       "    <tr>\n",
       "      <th>9</th>\n",
       "      <td>2024-08-01</td>\n",
       "      <td>Inside Rangamati</td>\n",
       "      <td>6908576.0</td>\n",
       "    </tr>\n",
       "    <tr>\n",
       "      <th>10</th>\n",
       "      <td>2024-08-01</td>\n",
       "      <td>Outside Rangamati</td>\n",
       "      <td>7752004.0</td>\n",
       "    </tr>\n",
       "    <tr>\n",
       "      <th>11</th>\n",
       "      <td>2024-08-01</td>\n",
       "      <td>Rangamati Sadar</td>\n",
       "      <td>8020158.0</td>\n",
       "    </tr>\n",
       "    <tr>\n",
       "      <th>12</th>\n",
       "      <td>2024-09-01</td>\n",
       "      <td>Inside Rangamati</td>\n",
       "      <td>8020703.0</td>\n",
       "    </tr>\n",
       "    <tr>\n",
       "      <th>13</th>\n",
       "      <td>2024-09-01</td>\n",
       "      <td>Outside Rangamati</td>\n",
       "      <td>7571521.0</td>\n",
       "    </tr>\n",
       "    <tr>\n",
       "      <th>14</th>\n",
       "      <td>2024-09-01</td>\n",
       "      <td>Rangamati Sadar</td>\n",
       "      <td>8327971.0</td>\n",
       "    </tr>\n",
       "    <tr>\n",
       "      <th>15</th>\n",
       "      <td>2024-10-01</td>\n",
       "      <td>Inside Rangamati</td>\n",
       "      <td>7970216.0</td>\n",
       "    </tr>\n",
       "    <tr>\n",
       "      <th>16</th>\n",
       "      <td>2024-10-01</td>\n",
       "      <td>Outside Rangamati</td>\n",
       "      <td>8491493.0</td>\n",
       "    </tr>\n",
       "    <tr>\n",
       "      <th>17</th>\n",
       "      <td>2024-10-01</td>\n",
       "      <td>Rangamati Sadar</td>\n",
       "      <td>6993275.0</td>\n",
       "    </tr>\n",
       "    <tr>\n",
       "      <th>18</th>\n",
       "      <td>2024-11-01</td>\n",
       "      <td>Inside Rangamati</td>\n",
       "      <td>6560483.0</td>\n",
       "    </tr>\n",
       "    <tr>\n",
       "      <th>19</th>\n",
       "      <td>2024-11-01</td>\n",
       "      <td>Outside Rangamati</td>\n",
       "      <td>6943542.0</td>\n",
       "    </tr>\n",
       "    <tr>\n",
       "      <th>20</th>\n",
       "      <td>2024-11-01</td>\n",
       "      <td>Rangamati Sadar</td>\n",
       "      <td>6888314.0</td>\n",
       "    </tr>\n",
       "    <tr>\n",
       "      <th>21</th>\n",
       "      <td>2024-12-01</td>\n",
       "      <td>Inside Rangamati</td>\n",
       "      <td>7451925.0</td>\n",
       "    </tr>\n",
       "    <tr>\n",
       "      <th>22</th>\n",
       "      <td>2024-12-01</td>\n",
       "      <td>Outside Rangamati</td>\n",
       "      <td>8146610.0</td>\n",
       "    </tr>\n",
       "    <tr>\n",
       "      <th>23</th>\n",
       "      <td>2024-12-01</td>\n",
       "      <td>Rangamati Sadar</td>\n",
       "      <td>7422558.0</td>\n",
       "    </tr>\n",
       "    <tr>\n",
       "      <th>24</th>\n",
       "      <td>2025-01-01</td>\n",
       "      <td>Inside Rangamati</td>\n",
       "      <td>6707924.0</td>\n",
       "    </tr>\n",
       "    <tr>\n",
       "      <th>25</th>\n",
       "      <td>2025-01-01</td>\n",
       "      <td>Outside Rangamati</td>\n",
       "      <td>7303219.0</td>\n",
       "    </tr>\n",
       "    <tr>\n",
       "      <th>26</th>\n",
       "      <td>2025-01-01</td>\n",
       "      <td>Rangamati Sadar</td>\n",
       "      <td>7941399.0</td>\n",
       "    </tr>\n",
       "    <tr>\n",
       "      <th>27</th>\n",
       "      <td>2025-02-01</td>\n",
       "      <td>Inside Rangamati</td>\n",
       "      <td>7411204.0</td>\n",
       "    </tr>\n",
       "    <tr>\n",
       "      <th>28</th>\n",
       "      <td>2025-02-01</td>\n",
       "      <td>Outside Rangamati</td>\n",
       "      <td>7363906.0</td>\n",
       "    </tr>\n",
       "    <tr>\n",
       "      <th>29</th>\n",
       "      <td>2025-02-01</td>\n",
       "      <td>Rangamati Sadar</td>\n",
       "      <td>7022962.0</td>\n",
       "    </tr>\n",
       "    <tr>\n",
       "      <th>30</th>\n",
       "      <td>2025-03-01</td>\n",
       "      <td>Inside Rangamati</td>\n",
       "      <td>4953856.0</td>\n",
       "    </tr>\n",
       "    <tr>\n",
       "      <th>31</th>\n",
       "      <td>2025-03-01</td>\n",
       "      <td>Outside Rangamati</td>\n",
       "      <td>5972693.0</td>\n",
       "    </tr>\n",
       "    <tr>\n",
       "      <th>32</th>\n",
       "      <td>2025-03-01</td>\n",
       "      <td>Rangamati Sadar</td>\n",
       "      <td>6041840.0</td>\n",
       "    </tr>\n",
       "  </tbody>\n",
       "</table>\n",
       "</div>"
      ],
      "text/plain": [
       "   Month_Year           Location  SellPrice\n",
       "0  2024-05-01   Inside Rangamati  1032131.0\n",
       "1  2024-05-01  Outside Rangamati  1359721.0\n",
       "2  2024-05-01    Rangamati Sadar  1286057.0\n",
       "3  2024-06-01   Inside Rangamati  7657318.0\n",
       "4  2024-06-01  Outside Rangamati  6584889.0\n",
       "5  2024-06-01    Rangamati Sadar  7855022.0\n",
       "6  2024-07-01   Inside Rangamati  7412785.0\n",
       "7  2024-07-01  Outside Rangamati  7069358.0\n",
       "8  2024-07-01    Rangamati Sadar  7936024.0\n",
       "9  2024-08-01   Inside Rangamati  6908576.0\n",
       "10 2024-08-01  Outside Rangamati  7752004.0\n",
       "11 2024-08-01    Rangamati Sadar  8020158.0\n",
       "12 2024-09-01   Inside Rangamati  8020703.0\n",
       "13 2024-09-01  Outside Rangamati  7571521.0\n",
       "14 2024-09-01    Rangamati Sadar  8327971.0\n",
       "15 2024-10-01   Inside Rangamati  7970216.0\n",
       "16 2024-10-01  Outside Rangamati  8491493.0\n",
       "17 2024-10-01    Rangamati Sadar  6993275.0\n",
       "18 2024-11-01   Inside Rangamati  6560483.0\n",
       "19 2024-11-01  Outside Rangamati  6943542.0\n",
       "20 2024-11-01    Rangamati Sadar  6888314.0\n",
       "21 2024-12-01   Inside Rangamati  7451925.0\n",
       "22 2024-12-01  Outside Rangamati  8146610.0\n",
       "23 2024-12-01    Rangamati Sadar  7422558.0\n",
       "24 2025-01-01   Inside Rangamati  6707924.0\n",
       "25 2025-01-01  Outside Rangamati  7303219.0\n",
       "26 2025-01-01    Rangamati Sadar  7941399.0\n",
       "27 2025-02-01   Inside Rangamati  7411204.0\n",
       "28 2025-02-01  Outside Rangamati  7363906.0\n",
       "29 2025-02-01    Rangamati Sadar  7022962.0\n",
       "30 2025-03-01   Inside Rangamati  4953856.0\n",
       "31 2025-03-01  Outside Rangamati  5972693.0\n",
       "32 2025-03-01    Rangamati Sadar  6041840.0"
      ]
     },
     "execution_count": 22,
     "metadata": {},
     "output_type": "execute_result"
    }
   ],
   "source": [
    "sales_by_month"
   ]
  },
  {
   "cell_type": "markdown",
   "id": "46477b7c",
   "metadata": {},
   "source": [
    "# Preprocessing data and Encoding Variables"
   ]
  },
  {
   "cell_type": "markdown",
   "id": "f3810e3d",
   "metadata": {},
   "source": [
    "Preprocessing steps to Encode categorical variables"
   ]
  },
  {
   "cell_type": "code",
   "execution_count": 23,
   "id": "63238885",
   "metadata": {},
   "outputs": [
    {
     "data": {
      "application/vnd.microsoft.datawrangler.viewer.v0+json": {
       "columns": [
        {
         "name": "index",
         "rawType": "int64",
         "type": "integer"
        },
        {
         "name": "Date",
         "rawType": "datetime64[ns]",
         "type": "datetime"
        },
        {
         "name": "Location",
         "rawType": "object",
         "type": "string"
        },
        {
         "name": "Age",
         "rawType": "int64",
         "type": "integer"
        },
        {
         "name": "Gender",
         "rawType": "object",
         "type": "string"
        },
        {
         "name": "MobileName",
         "rawType": "object",
         "type": "string"
        },
        {
         "name": "SellPrice",
         "rawType": "float64",
         "type": "float"
        },
        {
         "name": "FromFacebook",
         "rawType": "object",
         "type": "string"
        },
        {
         "name": "FollowedPage",
         "rawType": "object",
         "type": "string"
        },
        {
         "name": "BoughtBefore",
         "rawType": "object",
         "type": "string"
        },
        {
         "name": "HeardShopBefore",
         "rawType": "object",
         "type": "string"
        },
        {
         "name": "Month_Year",
         "rawType": "period[M]",
         "type": "unknown"
        },
        {
         "name": "Region",
         "rawType": "object",
         "type": "string"
        }
       ],
       "ref": "e61e8019-42ae-473f-9a58-cd4e80a3c7f6",
       "rows": [
        [
         "0",
         "2024-05-27 00:00:00",
         "Rangamati Sadar",
         "49",
         "F",
         "Galaxy A55 5G 8/128",
         "17073.0",
         "No",
         "Yes",
         "No",
         "Yes",
         "2024-05",
         "Local"
        ],
        [
         "1",
         "2024-05-27 00:00:00",
         "Inside Rangamati",
         "44",
         "M",
         "Redmi Note 12 Pro 8/128",
         "15546.0",
         "Yes",
         "No",
         "No",
         "Yes",
         "2024-05",
         "Local"
        ],
        [
         "2",
         "2024-05-27 00:00:00",
         "Rangamati Sadar",
         "45",
         "M",
         "R-70 Turbo 5G 6/128",
         "26516.0",
         "Yes",
         "No",
         "No",
         "Yes",
         "2024-05",
         "Local"
        ],
        [
         "3",
         "2024-05-27 00:00:00",
         "Rangamati Sadar",
         "46",
         "M",
         "R-70 Turbo 5G 6/128",
         "21927.0",
         "No",
         "No",
         "No",
         "Yes",
         "2024-05",
         "Local"
        ],
        [
         "4",
         "2024-05-27 00:00:00",
         "Outside Rangamati",
         "27",
         "F",
         "Vivo T3x 5G 8/128",
         "16718.0",
         "Yes",
         "No",
         "No",
         "Yes",
         "2024-05",
         "Outside"
        ]
       ],
       "shape": {
        "columns": 12,
        "rows": 5
       }
      },
      "text/html": [
       "<div>\n",
       "<style scoped>\n",
       "    .dataframe tbody tr th:only-of-type {\n",
       "        vertical-align: middle;\n",
       "    }\n",
       "\n",
       "    .dataframe tbody tr th {\n",
       "        vertical-align: top;\n",
       "    }\n",
       "\n",
       "    .dataframe thead th {\n",
       "        text-align: right;\n",
       "    }\n",
       "</style>\n",
       "<table border=\"1\" class=\"dataframe\">\n",
       "  <thead>\n",
       "    <tr style=\"text-align: right;\">\n",
       "      <th></th>\n",
       "      <th>Date</th>\n",
       "      <th>Location</th>\n",
       "      <th>Age</th>\n",
       "      <th>Gender</th>\n",
       "      <th>MobileName</th>\n",
       "      <th>SellPrice</th>\n",
       "      <th>FromFacebook</th>\n",
       "      <th>FollowedPage</th>\n",
       "      <th>BoughtBefore</th>\n",
       "      <th>HeardShopBefore</th>\n",
       "      <th>Month_Year</th>\n",
       "      <th>Region</th>\n",
       "    </tr>\n",
       "  </thead>\n",
       "  <tbody>\n",
       "    <tr>\n",
       "      <th>0</th>\n",
       "      <td>2024-05-27</td>\n",
       "      <td>Rangamati Sadar</td>\n",
       "      <td>49</td>\n",
       "      <td>F</td>\n",
       "      <td>Galaxy A55 5G 8/128</td>\n",
       "      <td>17073.0</td>\n",
       "      <td>No</td>\n",
       "      <td>Yes</td>\n",
       "      <td>No</td>\n",
       "      <td>Yes</td>\n",
       "      <td>2024-05</td>\n",
       "      <td>Local</td>\n",
       "    </tr>\n",
       "    <tr>\n",
       "      <th>1</th>\n",
       "      <td>2024-05-27</td>\n",
       "      <td>Inside Rangamati</td>\n",
       "      <td>44</td>\n",
       "      <td>M</td>\n",
       "      <td>Redmi Note 12 Pro 8/128</td>\n",
       "      <td>15546.0</td>\n",
       "      <td>Yes</td>\n",
       "      <td>No</td>\n",
       "      <td>No</td>\n",
       "      <td>Yes</td>\n",
       "      <td>2024-05</td>\n",
       "      <td>Local</td>\n",
       "    </tr>\n",
       "    <tr>\n",
       "      <th>2</th>\n",
       "      <td>2024-05-27</td>\n",
       "      <td>Rangamati Sadar</td>\n",
       "      <td>45</td>\n",
       "      <td>M</td>\n",
       "      <td>R-70 Turbo 5G 6/128</td>\n",
       "      <td>26516.0</td>\n",
       "      <td>Yes</td>\n",
       "      <td>No</td>\n",
       "      <td>No</td>\n",
       "      <td>Yes</td>\n",
       "      <td>2024-05</td>\n",
       "      <td>Local</td>\n",
       "    </tr>\n",
       "    <tr>\n",
       "      <th>3</th>\n",
       "      <td>2024-05-27</td>\n",
       "      <td>Rangamati Sadar</td>\n",
       "      <td>46</td>\n",
       "      <td>M</td>\n",
       "      <td>R-70 Turbo 5G 6/128</td>\n",
       "      <td>21927.0</td>\n",
       "      <td>No</td>\n",
       "      <td>No</td>\n",
       "      <td>No</td>\n",
       "      <td>Yes</td>\n",
       "      <td>2024-05</td>\n",
       "      <td>Local</td>\n",
       "    </tr>\n",
       "    <tr>\n",
       "      <th>4</th>\n",
       "      <td>2024-05-27</td>\n",
       "      <td>Outside Rangamati</td>\n",
       "      <td>27</td>\n",
       "      <td>F</td>\n",
       "      <td>Vivo T3x 5G 8/128</td>\n",
       "      <td>16718.0</td>\n",
       "      <td>Yes</td>\n",
       "      <td>No</td>\n",
       "      <td>No</td>\n",
       "      <td>Yes</td>\n",
       "      <td>2024-05</td>\n",
       "      <td>Outside</td>\n",
       "    </tr>\n",
       "  </tbody>\n",
       "</table>\n",
       "</div>"
      ],
      "text/plain": [
       "        Date           Location  Age Gender               MobileName  \\\n",
       "0 2024-05-27    Rangamati Sadar   49      F      Galaxy A55 5G 8/128   \n",
       "1 2024-05-27   Inside Rangamati   44      M  Redmi Note 12 Pro 8/128   \n",
       "2 2024-05-27    Rangamati Sadar   45      M      R-70 Turbo 5G 6/128   \n",
       "3 2024-05-27    Rangamati Sadar   46      M      R-70 Turbo 5G 6/128   \n",
       "4 2024-05-27  Outside Rangamati   27      F        Vivo T3x 5G 8/128   \n",
       "\n",
       "   SellPrice FromFacebook FollowedPage BoughtBefore HeardShopBefore  \\\n",
       "0    17073.0           No          Yes           No             Yes   \n",
       "1    15546.0          Yes           No           No             Yes   \n",
       "2    26516.0          Yes           No           No             Yes   \n",
       "3    21927.0           No           No           No             Yes   \n",
       "4    16718.0          Yes           No           No             Yes   \n",
       "\n",
       "  Month_Year   Region  \n",
       "0    2024-05    Local  \n",
       "1    2024-05    Local  \n",
       "2    2024-05    Local  \n",
       "3    2024-05    Local  \n",
       "4    2024-05  Outside  "
      ]
     },
     "execution_count": 23,
     "metadata": {},
     "output_type": "execute_result"
    }
   ],
   "source": [
    "# encode labeled data, this is necessary for categorical features\n",
    "# individual encoders are used to perform inverse transform later\n",
    "from sklearn.preprocessing import LabelEncoder\n",
    "\n",
    "modeldata = dataset.copy()\n",
    "\n",
    "categorical_features = ['Location', 'MobileName', 'FromFacebook', 'Gender' , 'FollowedPage', 'BoughtBefore', 'HeardShopBefore']\n",
    "numerical_features = ['SellPrice', 'Age']\n",
    "# Target variable to be understood from the Group discussion\n",
    "\n",
    "le_MobileName= LabelEncoder()\n",
    "modeldata['MobileName'] = le_MobileName.fit_transform(modeldata['MobileName']) # encode the MobileName column\n",
    "\n",
    "le_FromFacebook= LabelEncoder()\n",
    "modeldata['FromFacebook'] = le_FromFacebook.fit_transform(modeldata['FromFacebook']) # encode the FromFacebook column\n",
    "\n",
    "le_Gender= LabelEncoder()\n",
    "modeldata['Gender'] = le_Gender.fit_transform(modeldata['Gender'])\n",
    "\n",
    "le_FollowedPage= LabelEncoder()\n",
    "modeldata['FollowedPage'] = le_FollowedPage.fit_transform(modeldata['FollowedPage']) # encode the Follow Page column\n",
    "\n",
    "le_BoughtBefore= LabelEncoder()\n",
    "modeldata['BoughtBefore'] = le_BoughtBefore.fit_transform(modeldata['BoughtBefore']) # encode the Bought Before column\n",
    "\n",
    "le_BoughtBefore= LabelEncoder()\n",
    "modeldata['HeardShopBefore'] = le_BoughtBefore.fit_transform(modeldata['HeardShopBefore']) # encode the Heard Shop Before column\n",
    "\n",
    "dataset.head()\n",
    "\n"
   ]
  },
  {
   "cell_type": "code",
   "execution_count": 24,
   "id": "aff92024",
   "metadata": {},
   "outputs": [
    {
     "name": "stdout",
     "output_type": "stream",
     "text": [
      "17\n"
     ]
    }
   ],
   "source": [
    "list_mobile_names = dataset.MobileName.unique() # check the unique values of the MobileName column\n",
    "print(len(list_mobile_names)) # check the number of unique values of the MobileName column"
   ]
  },
  {
   "cell_type": "code",
   "execution_count": 25,
   "id": "80505491",
   "metadata": {},
   "outputs": [],
   "source": [
    "from sklearn.preprocessing import OneHotEncoder\n",
    "from sklearn.compose import ColumnTransformer\n",
    "\n",
    "ct = ColumnTransformer(transformers =[('ct_location', OneHotEncoder(), ['Location'])], remainder='passthrough')\n",
    "datasetworking = ct.fit_transform(dataset).copy()"
   ]
  },
  {
   "cell_type": "code",
   "execution_count": 26,
   "id": "12244df5",
   "metadata": {},
   "outputs": [
    {
     "data": {
      "application/vnd.microsoft.datawrangler.viewer.v0+json": {
       "columns": [
        {
         "name": "index",
         "rawType": "int64",
         "type": "integer"
        },
        {
         "name": "Date",
         "rawType": "datetime64[ns]",
         "type": "datetime"
        },
        {
         "name": "Location",
         "rawType": "object",
         "type": "string"
        },
        {
         "name": "Age",
         "rawType": "int64",
         "type": "integer"
        },
        {
         "name": "Gender",
         "rawType": "object",
         "type": "string"
        },
        {
         "name": "MobileName",
         "rawType": "object",
         "type": "string"
        },
        {
         "name": "SellPrice",
         "rawType": "float64",
         "type": "float"
        },
        {
         "name": "FromFacebook",
         "rawType": "object",
         "type": "string"
        },
        {
         "name": "FollowedPage",
         "rawType": "object",
         "type": "string"
        },
        {
         "name": "BoughtBefore",
         "rawType": "object",
         "type": "string"
        },
        {
         "name": "HeardShopBefore",
         "rawType": "object",
         "type": "string"
        },
        {
         "name": "Month_Year",
         "rawType": "period[M]",
         "type": "unknown"
        },
        {
         "name": "Region",
         "rawType": "object",
         "type": "string"
        }
       ],
       "ref": "24d8a754-45b0-4eb7-848d-0c3581173543",
       "rows": [
        [
         "0",
         "2024-05-27 00:00:00",
         "Rangamati Sadar",
         "49",
         "F",
         "Galaxy A55 5G 8/128",
         "17073.0",
         "No",
         "Yes",
         "No",
         "Yes",
         "2024-05",
         "Local"
        ],
        [
         "1",
         "2024-05-27 00:00:00",
         "Inside Rangamati",
         "44",
         "M",
         "Redmi Note 12 Pro 8/128",
         "15546.0",
         "Yes",
         "No",
         "No",
         "Yes",
         "2024-05",
         "Local"
        ],
        [
         "2",
         "2024-05-27 00:00:00",
         "Rangamati Sadar",
         "45",
         "M",
         "R-70 Turbo 5G 6/128",
         "26516.0",
         "Yes",
         "No",
         "No",
         "Yes",
         "2024-05",
         "Local"
        ],
        [
         "3",
         "2024-05-27 00:00:00",
         "Rangamati Sadar",
         "46",
         "M",
         "R-70 Turbo 5G 6/128",
         "21927.0",
         "No",
         "No",
         "No",
         "Yes",
         "2024-05",
         "Local"
        ],
        [
         "4",
         "2024-05-27 00:00:00",
         "Outside Rangamati",
         "27",
         "F",
         "Vivo T3x 5G 8/128",
         "16718.0",
         "Yes",
         "No",
         "No",
         "Yes",
         "2024-05",
         "Outside"
        ],
        [
         "5",
         "2024-05-27 00:00:00",
         "Rangamati Sadar",
         "23",
         "F",
         "Moto G85 5G 8/128",
         "22392.0",
         "No",
         "No",
         "No",
         "Yes",
         "2024-05",
         "Local"
        ],
        [
         "6",
         "2024-05-27 00:00:00",
         "Outside Rangamati",
         "25",
         "M",
         "iQOO Z7 5G 6/128",
         "20702.0",
         "No",
         "No",
         "No",
         "Yes",
         "2024-05",
         "Outside"
        ],
        [
         "7",
         "2024-05-27 00:00:00",
         "Inside Rangamati",
         "26",
         "F",
         "Moto G85 5G 8/128",
         "16090.0",
         "No",
         "No",
         "No",
         "Yes",
         "2024-05",
         "Local"
        ],
        [
         "8",
         "2024-05-27 00:00:00",
         "Rangamati Sadar",
         "49",
         "M",
         "Galaxy S24 Ultra 12/256",
         "12819.0",
         "No",
         "Yes",
         "No",
         "No",
         "2024-05",
         "Local"
        ],
        [
         "9",
         "2024-05-27 00:00:00",
         "Outside Rangamati",
         "45",
         "M",
         "Vivo Y200 5G 6/128",
         "13597.0",
         "Yes",
         "Yes",
         "Yes",
         "No",
         "2024-05",
         "Outside"
        ],
        [
         "10",
         "2024-05-27 00:00:00",
         "Inside Rangamati",
         "27",
         "F",
         "iQOO Neo 9 Pro 5G 12/256",
         "40089.0",
         "Yes",
         "Yes",
         "No",
         "Yes",
         "2024-05",
         "Local"
        ],
        [
         "11",
         "2024-05-27 00:00:00",
         "Rangamati Sadar",
         "45",
         "M",
         "Moto G85 5G 8/128",
         "18027.0",
         "No",
         "No",
         "No",
         "No",
         "2024-05",
         "Local"
        ],
        [
         "12",
         "2024-05-27 00:00:00",
         "Outside Rangamati",
         "47",
         "M",
         "iQOO Z7 5G 6/128",
         "20856.0",
         "No",
         "No",
         "No",
         "No",
         "2024-05",
         "Outside"
        ],
        [
         "13",
         "2024-05-27 00:00:00",
         "Outside Rangamati",
         "18",
         "F",
         "iQOO Z7 5G 6/128",
         "23106.0",
         "Yes",
         "No",
         "No",
         "No",
         "2024-05",
         "Outside"
        ],
        [
         "14",
         "2024-05-27 00:00:00",
         "Outside Rangamati",
         "47",
         "F",
         "Note 11S 6/128",
         "17603.0",
         "No",
         "No",
         "No",
         "Yes",
         "2024-05",
         "Outside"
        ],
        [
         "15",
         "2024-05-27 00:00:00",
         "Inside Rangamati",
         "19",
         "F",
         "Galaxy M35 5G 8/128",
         "25964.0",
         "No",
         "No",
         "No",
         "Yes",
         "2024-05",
         "Local"
        ],
        [
         "16",
         "2024-05-27 00:00:00",
         "Rangamati Sadar",
         "45",
         "M",
         "Galaxy A55 5G 8/128",
         "24324.0",
         "No",
         "No",
         "No",
         "Yes",
         "2024-05",
         "Local"
        ],
        [
         "17",
         "2024-05-27 00:00:00",
         "Outside Rangamati",
         "44",
         "F",
         "Galaxy S24 Ultra 12/256",
         "15611.0",
         "Yes",
         "No",
         "No",
         "No",
         "2024-05",
         "Outside"
        ],
        [
         "18",
         "2024-05-27 00:00:00",
         "Rangamati Sadar",
         "50",
         "F",
         "Vivo T3x 5G 8/128",
         "26273.0",
         "No",
         "No",
         "No",
         "Yes",
         "2024-05",
         "Local"
        ],
        [
         "19",
         "2024-05-27 00:00:00",
         "Rangamati Sadar",
         "36",
         "M",
         "Pixel 8 Pro 12/256",
         "13441.0",
         "No",
         "No",
         "Yes",
         "Yes",
         "2024-05",
         "Local"
        ],
        [
         "20",
         "2024-05-27 00:00:00",
         "Inside Rangamati",
         "41",
         "F",
         "Note 11S 6/128",
         "16181.0",
         "No",
         "No",
         "Yes",
         "Yes",
         "2024-05",
         "Local"
        ],
        [
         "21",
         "2024-05-27 00:00:00",
         "Inside Rangamati",
         "29",
         "F",
         "Note 11S 6/128",
         "23246.0",
         "No",
         "No",
         "No",
         "Yes",
         "2024-05",
         "Local"
        ],
        [
         "22",
         "2024-05-27 00:00:00",
         "Inside Rangamati",
         "43",
         "F",
         "Note 11S 6/128",
         "21776.0",
         "No",
         "No",
         "No",
         "No",
         "2024-05",
         "Local"
        ],
        [
         "23",
         "2024-05-27 00:00:00",
         "Outside Rangamati",
         "19",
         "F",
         "Narzo N53 4/64",
         "12865.0",
         "Yes",
         "No",
         "Yes",
         "Yes",
         "2024-05",
         "Outside"
        ],
        [
         "24",
         "2024-05-27 00:00:00",
         "Inside Rangamati",
         "45",
         "M",
         "Note 11S 6/128",
         "23318.0",
         "Yes",
         "No",
         "Yes",
         "Yes",
         "2024-05",
         "Local"
        ],
        [
         "25",
         "2024-05-27 00:00:00",
         "Rangamati Sadar",
         "25",
         "M",
         "R-70 Turbo 5G 6/128",
         "24032.0",
         "No",
         "No",
         "Yes",
         "No",
         "2024-05",
         "Local"
        ],
        [
         "26",
         "2024-05-28 00:00:00",
         "Outside Rangamati",
         "30",
         "M",
         "Galaxy M35 5G 8/128",
         "26174.0",
         "Yes",
         "No",
         "No",
         "No",
         "2024-05",
         "Outside"
        ],
        [
         "27",
         "2024-05-28 00:00:00",
         "Outside Rangamati",
         "34",
         "F",
         "Moto G85 5G 8/128",
         "26118.0",
         "No",
         "No",
         "Yes",
         "Yes",
         "2024-05",
         "Outside"
        ],
        [
         "28",
         "2024-05-28 00:00:00",
         "Outside Rangamati",
         "30",
         "M",
         "iQOO Neo 9 Pro 5G 12/256",
         "40496.0",
         "No",
         "No",
         "No",
         "Yes",
         "2024-05",
         "Outside"
        ],
        [
         "29",
         "2024-05-28 00:00:00",
         "Inside Rangamati",
         "38",
         "M",
         "Note 11S 6/128",
         "23047.0",
         "No",
         "No",
         "No",
         "Yes",
         "2024-05",
         "Local"
        ],
        [
         "30",
         "2024-05-28 00:00:00",
         "Inside Rangamati",
         "42",
         "F",
         "Galaxy S24 Ultra 12/256",
         "23249.0",
         "No",
         "No",
         "No",
         "No",
         "2024-05",
         "Local"
        ],
        [
         "31",
         "2024-05-28 00:00:00",
         "Outside Rangamati",
         "20",
         "F",
         "Note 14 Pro 5G 8/256",
         "14989.0",
         "No",
         "No",
         "No",
         "Yes",
         "2024-05",
         "Outside"
        ],
        [
         "32",
         "2024-05-28 00:00:00",
         "Outside Rangamati",
         "36",
         "F",
         "Galaxy S24 Ultra 12/256",
         "37343.0",
         "No",
         "Yes",
         "Yes",
         "Yes",
         "2024-05",
         "Outside"
        ],
        [
         "33",
         "2024-05-28 00:00:00",
         "Inside Rangamati",
         "43",
         "F",
         "Note 11S 6/128",
         "13867.0",
         "No",
         "Yes",
         "No",
         "Yes",
         "2024-05",
         "Local"
        ],
        [
         "34",
         "2024-05-28 00:00:00",
         "Inside Rangamati",
         "32",
         "M",
         "Vivo T3x 5G 8/128",
         "16681.0",
         "No",
         "No",
         "No",
         "Yes",
         "2024-05",
         "Local"
        ],
        [
         "35",
         "2024-05-28 00:00:00",
         "Outside Rangamati",
         "38",
         "F",
         "Moto G85 5G 8/128",
         "21576.0",
         "Yes",
         "No",
         "No",
         "Yes",
         "2024-05",
         "Outside"
        ],
        [
         "36",
         "2024-05-28 00:00:00",
         "Outside Rangamati",
         "30",
         "M",
         "iPhone 16 Pro 256GB",
         "13285.0",
         "Yes",
         "No",
         "No",
         "Yes",
         "2024-05",
         "Outside"
        ],
        [
         "37",
         "2024-05-28 00:00:00",
         "Inside Rangamati",
         "32",
         "M",
         "Moto G85 5G 8/128",
         "26591.0",
         "No",
         "Yes",
         "No",
         "No",
         "2024-05",
         "Local"
        ],
        [
         "38",
         "2024-05-28 00:00:00",
         "Outside Rangamati",
         "20",
         "M",
         "Vivo Y200 5G 6/128",
         "22641.0",
         "No",
         "Yes",
         "No",
         "Yes",
         "2024-05",
         "Outside"
        ],
        [
         "39",
         "2024-05-28 00:00:00",
         "Outside Rangamati",
         "37",
         "F",
         "Vivo T3x 5G 8/128",
         "26294.0",
         "Yes",
         "No",
         "No",
         "Yes",
         "2024-05",
         "Outside"
        ],
        [
         "40",
         "2024-05-28 00:00:00",
         "Outside Rangamati",
         "18",
         "F",
         "Pixel 7a 8/128",
         "44608.0",
         "No",
         "No",
         "No",
         "Yes",
         "2024-05",
         "Outside"
        ],
        [
         "41",
         "2024-05-28 00:00:00",
         "Outside Rangamati",
         "42",
         "M",
         "iQOO Neo 9 Pro 5G 12/256",
         "40262.0",
         "Yes",
         "No",
         "No",
         "Yes",
         "2024-05",
         "Outside"
        ],
        [
         "42",
         "2024-05-28 00:00:00",
         "Inside Rangamati",
         "31",
         "F",
         "Moto G85 5G 8/128",
         "19318.0",
         "Yes",
         "No",
         "No",
         "Yes",
         "2024-05",
         "Local"
        ],
        [
         "43",
         "2024-05-28 00:00:00",
         "Rangamati Sadar",
         "38",
         "M",
         "Moto G85 5G 8/128",
         "20979.0",
         "Yes",
         "No",
         "Yes",
         "Yes",
         "2024-05",
         "Local"
        ],
        [
         "44",
         "2024-05-28 00:00:00",
         "Rangamati Sadar",
         "19",
         "F",
         "Galaxy A55 5G 8/128",
         "24179.0",
         "Yes",
         "No",
         "No",
         "Yes",
         "2024-05",
         "Local"
        ],
        [
         "45",
         "2024-05-28 00:00:00",
         "Rangamati Sadar",
         "50",
         "M",
         "iQOO Z7 5G 6/128",
         "16479.0",
         "Yes",
         "No",
         "No",
         "Yes",
         "2024-05",
         "Local"
        ],
        [
         "46",
         "2024-05-28 00:00:00",
         "Inside Rangamati",
         "27",
         "M",
         "Vivo T3x 5G 8/128",
         "15115.0",
         "Yes",
         "Yes",
         "Yes",
         "No",
         "2024-05",
         "Local"
        ],
        [
         "47",
         "2024-05-28 00:00:00",
         "Rangamati Sadar",
         "31",
         "M",
         "Note 11S 6/128",
         "23691.0",
         "No",
         "No",
         "Yes",
         "Yes",
         "2024-05",
         "Local"
        ],
        [
         "48",
         "2024-05-28 00:00:00",
         "Outside Rangamati",
         "39",
         "M",
         "R-70 Turbo 5G 6/128",
         "24226.0",
         "No",
         "No",
         "Yes",
         "No",
         "2024-05",
         "Outside"
        ],
        [
         "49",
         "2024-05-28 00:00:00",
         "Inside Rangamati",
         "18",
         "F",
         "Note 11S 6/128",
         "14427.0",
         "No",
         "No",
         "No",
         "Yes",
         "2024-05",
         "Local"
        ]
       ],
       "shape": {
        "columns": 12,
        "rows": 8871
       }
      },
      "text/html": [
       "<div>\n",
       "<style scoped>\n",
       "    .dataframe tbody tr th:only-of-type {\n",
       "        vertical-align: middle;\n",
       "    }\n",
       "\n",
       "    .dataframe tbody tr th {\n",
       "        vertical-align: top;\n",
       "    }\n",
       "\n",
       "    .dataframe thead th {\n",
       "        text-align: right;\n",
       "    }\n",
       "</style>\n",
       "<table border=\"1\" class=\"dataframe\">\n",
       "  <thead>\n",
       "    <tr style=\"text-align: right;\">\n",
       "      <th></th>\n",
       "      <th>Date</th>\n",
       "      <th>Location</th>\n",
       "      <th>Age</th>\n",
       "      <th>Gender</th>\n",
       "      <th>MobileName</th>\n",
       "      <th>SellPrice</th>\n",
       "      <th>FromFacebook</th>\n",
       "      <th>FollowedPage</th>\n",
       "      <th>BoughtBefore</th>\n",
       "      <th>HeardShopBefore</th>\n",
       "      <th>Month_Year</th>\n",
       "      <th>Region</th>\n",
       "    </tr>\n",
       "  </thead>\n",
       "  <tbody>\n",
       "    <tr>\n",
       "      <th>0</th>\n",
       "      <td>2024-05-27</td>\n",
       "      <td>Rangamati Sadar</td>\n",
       "      <td>49</td>\n",
       "      <td>F</td>\n",
       "      <td>Galaxy A55 5G 8/128</td>\n",
       "      <td>17073.0</td>\n",
       "      <td>No</td>\n",
       "      <td>Yes</td>\n",
       "      <td>No</td>\n",
       "      <td>Yes</td>\n",
       "      <td>2024-05</td>\n",
       "      <td>Local</td>\n",
       "    </tr>\n",
       "    <tr>\n",
       "      <th>1</th>\n",
       "      <td>2024-05-27</td>\n",
       "      <td>Inside Rangamati</td>\n",
       "      <td>44</td>\n",
       "      <td>M</td>\n",
       "      <td>Redmi Note 12 Pro 8/128</td>\n",
       "      <td>15546.0</td>\n",
       "      <td>Yes</td>\n",
       "      <td>No</td>\n",
       "      <td>No</td>\n",
       "      <td>Yes</td>\n",
       "      <td>2024-05</td>\n",
       "      <td>Local</td>\n",
       "    </tr>\n",
       "    <tr>\n",
       "      <th>2</th>\n",
       "      <td>2024-05-27</td>\n",
       "      <td>Rangamati Sadar</td>\n",
       "      <td>45</td>\n",
       "      <td>M</td>\n",
       "      <td>R-70 Turbo 5G 6/128</td>\n",
       "      <td>26516.0</td>\n",
       "      <td>Yes</td>\n",
       "      <td>No</td>\n",
       "      <td>No</td>\n",
       "      <td>Yes</td>\n",
       "      <td>2024-05</td>\n",
       "      <td>Local</td>\n",
       "    </tr>\n",
       "    <tr>\n",
       "      <th>3</th>\n",
       "      <td>2024-05-27</td>\n",
       "      <td>Rangamati Sadar</td>\n",
       "      <td>46</td>\n",
       "      <td>M</td>\n",
       "      <td>R-70 Turbo 5G 6/128</td>\n",
       "      <td>21927.0</td>\n",
       "      <td>No</td>\n",
       "      <td>No</td>\n",
       "      <td>No</td>\n",
       "      <td>Yes</td>\n",
       "      <td>2024-05</td>\n",
       "      <td>Local</td>\n",
       "    </tr>\n",
       "    <tr>\n",
       "      <th>4</th>\n",
       "      <td>2024-05-27</td>\n",
       "      <td>Outside Rangamati</td>\n",
       "      <td>27</td>\n",
       "      <td>F</td>\n",
       "      <td>Vivo T3x 5G 8/128</td>\n",
       "      <td>16718.0</td>\n",
       "      <td>Yes</td>\n",
       "      <td>No</td>\n",
       "      <td>No</td>\n",
       "      <td>Yes</td>\n",
       "      <td>2024-05</td>\n",
       "      <td>Outside</td>\n",
       "    </tr>\n",
       "    <tr>\n",
       "      <th>...</th>\n",
       "      <td>...</td>\n",
       "      <td>...</td>\n",
       "      <td>...</td>\n",
       "      <td>...</td>\n",
       "      <td>...</td>\n",
       "      <td>...</td>\n",
       "      <td>...</td>\n",
       "      <td>...</td>\n",
       "      <td>...</td>\n",
       "      <td>...</td>\n",
       "      <td>...</td>\n",
       "      <td>...</td>\n",
       "    </tr>\n",
       "    <tr>\n",
       "      <th>8866</th>\n",
       "      <td>2025-03-22</td>\n",
       "      <td>Outside Rangamati</td>\n",
       "      <td>34</td>\n",
       "      <td>M</td>\n",
       "      <td>iQOO Neo 9 Pro 5G 12/256</td>\n",
       "      <td>21682.0</td>\n",
       "      <td>Yes</td>\n",
       "      <td>Yes</td>\n",
       "      <td>Yes</td>\n",
       "      <td>Yes</td>\n",
       "      <td>2025-03</td>\n",
       "      <td>Outside</td>\n",
       "    </tr>\n",
       "    <tr>\n",
       "      <th>8867</th>\n",
       "      <td>2025-03-22</td>\n",
       "      <td>Inside Rangamati</td>\n",
       "      <td>48</td>\n",
       "      <td>M</td>\n",
       "      <td>Moto G85 5G 8/128</td>\n",
       "      <td>26493.0</td>\n",
       "      <td>No</td>\n",
       "      <td>No</td>\n",
       "      <td>No</td>\n",
       "      <td>No</td>\n",
       "      <td>2025-03</td>\n",
       "      <td>Local</td>\n",
       "    </tr>\n",
       "    <tr>\n",
       "      <th>8868</th>\n",
       "      <td>2025-03-22</td>\n",
       "      <td>Inside Rangamati</td>\n",
       "      <td>30</td>\n",
       "      <td>F</td>\n",
       "      <td>Galaxy M35 5G 8/128</td>\n",
       "      <td>16184.0</td>\n",
       "      <td>No</td>\n",
       "      <td>No</td>\n",
       "      <td>No</td>\n",
       "      <td>No</td>\n",
       "      <td>2025-03</td>\n",
       "      <td>Local</td>\n",
       "    </tr>\n",
       "    <tr>\n",
       "      <th>8869</th>\n",
       "      <td>2025-03-22</td>\n",
       "      <td>Inside Rangamati</td>\n",
       "      <td>22</td>\n",
       "      <td>F</td>\n",
       "      <td>Galaxy A55 5G 8/128</td>\n",
       "      <td>16663.0</td>\n",
       "      <td>Yes</td>\n",
       "      <td>No</td>\n",
       "      <td>No</td>\n",
       "      <td>Yes</td>\n",
       "      <td>2025-03</td>\n",
       "      <td>Local</td>\n",
       "    </tr>\n",
       "    <tr>\n",
       "      <th>8870</th>\n",
       "      <td>2025-03-22</td>\n",
       "      <td>Outside Rangamati</td>\n",
       "      <td>22</td>\n",
       "      <td>M</td>\n",
       "      <td>Note 14 Pro 5G 8/256</td>\n",
       "      <td>20781.0</td>\n",
       "      <td>Yes</td>\n",
       "      <td>Yes</td>\n",
       "      <td>Yes</td>\n",
       "      <td>No</td>\n",
       "      <td>2025-03</td>\n",
       "      <td>Outside</td>\n",
       "    </tr>\n",
       "  </tbody>\n",
       "</table>\n",
       "<p>8871 rows × 12 columns</p>\n",
       "</div>"
      ],
      "text/plain": [
       "           Date           Location  Age Gender                MobileName  \\\n",
       "0    2024-05-27    Rangamati Sadar   49      F       Galaxy A55 5G 8/128   \n",
       "1    2024-05-27   Inside Rangamati   44      M   Redmi Note 12 Pro 8/128   \n",
       "2    2024-05-27    Rangamati Sadar   45      M       R-70 Turbo 5G 6/128   \n",
       "3    2024-05-27    Rangamati Sadar   46      M       R-70 Turbo 5G 6/128   \n",
       "4    2024-05-27  Outside Rangamati   27      F         Vivo T3x 5G 8/128   \n",
       "...         ...                ...  ...    ...                       ...   \n",
       "8866 2025-03-22  Outside Rangamati   34      M  iQOO Neo 9 Pro 5G 12/256   \n",
       "8867 2025-03-22   Inside Rangamati   48      M         Moto G85 5G 8/128   \n",
       "8868 2025-03-22   Inside Rangamati   30      F       Galaxy M35 5G 8/128   \n",
       "8869 2025-03-22   Inside Rangamati   22      F       Galaxy A55 5G 8/128   \n",
       "8870 2025-03-22  Outside Rangamati   22      M      Note 14 Pro 5G 8/256   \n",
       "\n",
       "      SellPrice FromFacebook FollowedPage BoughtBefore HeardShopBefore  \\\n",
       "0       17073.0           No          Yes           No             Yes   \n",
       "1       15546.0          Yes           No           No             Yes   \n",
       "2       26516.0          Yes           No           No             Yes   \n",
       "3       21927.0           No           No           No             Yes   \n",
       "4       16718.0          Yes           No           No             Yes   \n",
       "...         ...          ...          ...          ...             ...   \n",
       "8866    21682.0          Yes          Yes          Yes             Yes   \n",
       "8867    26493.0           No           No           No              No   \n",
       "8868    16184.0           No           No           No              No   \n",
       "8869    16663.0          Yes           No           No             Yes   \n",
       "8870    20781.0          Yes          Yes          Yes              No   \n",
       "\n",
       "     Month_Year   Region  \n",
       "0       2024-05    Local  \n",
       "1       2024-05    Local  \n",
       "2       2024-05    Local  \n",
       "3       2024-05    Local  \n",
       "4       2024-05  Outside  \n",
       "...         ...      ...  \n",
       "8866    2025-03  Outside  \n",
       "8867    2025-03    Local  \n",
       "8868    2025-03    Local  \n",
       "8869    2025-03    Local  \n",
       "8870    2025-03  Outside  \n",
       "\n",
       "[8871 rows x 12 columns]"
      ]
     },
     "execution_count": 26,
     "metadata": {},
     "output_type": "execute_result"
    }
   ],
   "source": [
    "dataset"
   ]
  },
  {
   "cell_type": "code",
   "execution_count": 29,
   "id": "126cac46",
   "metadata": {},
   "outputs": [],
   "source": [
    "numeric = modeldata.select_dtypes(include=['int64', 'int32', 'float64']).columns.to_list()"
   ]
  },
  {
   "cell_type": "code",
   "execution_count": 34,
   "id": "00103a12",
   "metadata": {},
   "outputs": [
    {
     "data": {
      "text/plain": [
       "<Axes: >"
      ]
     },
     "execution_count": 34,
     "metadata": {},
     "output_type": "execute_result"
    },
    {
     "data": {
      "image/png": "[encoded data removed]",
      "text/plain": [
       "<Figure size 640x480 with 2 Axes>"
      ]
     },
     "metadata": {},
     "output_type": "display_data"
    }
   ],
   "source": [
    "corr_matrix = modeldata[numeric].corr()\n",
    "sns.heatmap(corr_matrix, cmap='coolwarm', annot=True, fmt='.3f', annot_kws={'size':8})"
   ]
  }
 ],
 "metadata": {
  "kernelspec": {
   "display_name": "base",
   "language": "python",
   "name": "python3"
  },
  "language_info": {
   "codemirror_mode": {
    "name": "ipython",
    "version": 3
   },
   "file_extension": ".py",
   "mimetype": "text/x-python",
   "name": "python",
   "nbconvert_exporter": "python",
   "pygments_lexer": "ipython3",
   "version": "3.12.4"
  }
 },
 "nbformat": 4,
 "nbformat_minor": 5
}
