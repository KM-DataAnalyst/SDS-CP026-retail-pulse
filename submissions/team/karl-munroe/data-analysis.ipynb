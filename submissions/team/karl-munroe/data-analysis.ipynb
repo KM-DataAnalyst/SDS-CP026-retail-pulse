{
 "cells": [
  {
   "cell_type": "markdown",
   "id": "bc117447",
   "metadata": {},
   "source": [
    "# Super Data Science Community Project #26\n",
    "Retail Pulse: Customer Journey Prediction & Marketing Impact Analysis!!!\n"
   ]
  },
  {
   "cell_type": "markdown",
   "id": "e71d2d0b",
   "metadata": {},
   "source": [
    "### Quick Summary of the dataset\n",
    "TechCorner Mobile Sales & Customer Insights is a real-world dataset capturing 10 months of mobile phone sales transactions from a retail shop in Bangladesh. This dataset was designed to analyze customer location, buying behavior, and the impact of Facebook marketing efforts.\n",
    "\n",
    "The primary goal was to identify whether customers are from the local area (Rangamati Sadar, Inside Rangamati) or completely outside Rangamati. Since TechCorner operates a Facebook page, the dataset also includes insights into whether Facebook marketing is effectively reaching potential buyers.\n",
    "\n",
    "Additionally, the dataset helps in determining:\n",
    "✔ How many customers are new vs. returning buyers\n",
    "✔ If customers are followers of the shop’s Facebook page\n",
    "✔ Whether a customer was recommended by an existing buyer\n",
    "\n",
    "[Link to Dataset](https://www.kaggle.com/datasets/shohinurpervezshohan/techcorner-mobile-purchase-and-engagement-data)"
   ]
  },
  {
   "cell_type": "markdown",
   "id": "1ee0961e",
   "metadata": {},
   "source": [
    "For versions of the libraries used for this analysis see [requirements.txt](requirements.txt)"
   ]
  },
  {
   "cell_type": "code",
   "execution_count": 1,
   "id": "932bbf5c",
   "metadata": {},
   "outputs": [],
   "source": [
    "## Import the basic data manipulation libraries\n",
    "import pandas as pd\n",
    "import numpy as np\n",
    "import matplotlib.pyplot as plt\n",
    "import seaborn as sns\n",
    "\n",
    "sns.set_theme(style=\"whitegrid\")"
   ]
  },
  {
   "cell_type": "markdown",
   "id": "6c6cb852",
   "metadata": {},
   "source": [
    "### Load the dataset and Examine Characteristics"
   ]
  },
  {
   "cell_type": "code",
   "execution_count": 2,
   "id": "67f26669",
   "metadata": {},
   "outputs": [
    {
     "data": {
      "application/vnd.microsoft.datawrangler.viewer.v0+json": {
       "columns": [
        {
         "name": "index",
         "rawType": "int64",
         "type": "integer"
        },
        {
         "name": "Cus.ID",
         "rawType": "int64",
         "type": "integer"
        },
        {
         "name": "Date",
         "rawType": "object",
         "type": "string"
        },
        {
         "name": "Cus. Location",
         "rawType": "object",
         "type": "string"
        },
        {
         "name": "Age",
         "rawType": "int64",
         "type": "integer"
        },
        {
         "name": "Gender",
         "rawType": "object",
         "type": "string"
        },
        {
         "name": "Mobile Name",
         "rawType": "object",
         "type": "string"
        },
        {
         "name": "Sell Price",
         "rawType": "float64",
         "type": "float"
        },
        {
         "name": "Does he/she Come from Facebook Page?",
         "rawType": "object",
         "type": "string"
        },
        {
         "name": "Does he/she Followed Our Page?",
         "rawType": "object",
         "type": "string"
        },
        {
         "name": "Did he/she buy any mobile before?",
         "rawType": "object",
         "type": "string"
        },
        {
         "name": "Did he/she hear of our shop before?",
         "rawType": "object",
         "type": "string"
        }
       ],
       "conversionMethod": "pd.DataFrame",
       "ref": "80e3af93-40b9-4cfd-8939-fdfbccd4677c",
       "rows": [
        [
         "0",
         "1",
         "27-05-2024",
         "Rangamati Sadar",
         "49",
         "F",
         "Galaxy A55 5G 8/128",
         "17073.0",
         "No",
         "Yes",
         "No",
         "Yes"
        ],
        [
         "1",
         "2",
         "27-05-2024",
         "Inside Rangamati",
         "44",
         "M",
         "Redmi Note 12 Pro 8/128",
         "15546.0",
         "Yes",
         "No",
         "No",
         "Yes"
        ],
        [
         "2",
         "3",
         "27-05-2024",
         "Rangamati Sadar",
         "45",
         "M",
         "R-70 Turbo 5G 6/128",
         "26516.0",
         "Yes",
         "No",
         "No",
         "Yes"
        ],
        [
         "3",
         "4",
         "27-05-2024",
         "Rangamati Sadar",
         "46",
         "M",
         "R-70 Turbo 5G 6/128",
         "21927.0",
         "No",
         "No",
         "No",
         "Yes"
        ],
        [
         "4",
         "5",
         "27-05-2024",
         "Outside Rangamati",
         "27",
         "F",
         "Vivo T3x 5G 8/128",
         "16718.0",
         "Yes",
         "No",
         "No",
         "Yes"
        ]
       ],
       "shape": {
        "columns": 11,
        "rows": 5
       }
      },
      "text/html": [
       "<div>\n",
       "<style scoped>\n",
       "    .dataframe tbody tr th:only-of-type {\n",
       "        vertical-align: middle;\n",
       "    }\n",
       "\n",
       "    .dataframe tbody tr th {\n",
       "        vertical-align: top;\n",
       "    }\n",
       "\n",
       "    .dataframe thead th {\n",
       "        text-align: right;\n",
       "    }\n",
       "</style>\n",
       "<table border=\"1\" class=\"dataframe\">\n",
       "  <thead>\n",
       "    <tr style=\"text-align: right;\">\n",
       "      <th></th>\n",
       "      <th>Cus.ID</th>\n",
       "      <th>Date</th>\n",
       "      <th>Cus. Location</th>\n",
       "      <th>Age</th>\n",
       "      <th>Gender</th>\n",
       "      <th>Mobile Name</th>\n",
       "      <th>Sell Price</th>\n",
       "      <th>Does he/she Come from Facebook Page?</th>\n",
       "      <th>Does he/she Followed Our Page?</th>\n",
       "      <th>Did he/she buy any mobile before?</th>\n",
       "      <th>Did he/she hear of our shop before?</th>\n",
       "    </tr>\n",
       "  </thead>\n",
       "  <tbody>\n",
       "    <tr>\n",
       "      <th>0</th>\n",
       "      <td>1</td>\n",
       "      <td>27-05-2024</td>\n",
       "      <td>Rangamati Sadar</td>\n",
       "      <td>49</td>\n",
       "      <td>F</td>\n",
       "      <td>Galaxy A55 5G 8/128</td>\n",
       "      <td>17073.0</td>\n",
       "      <td>No</td>\n",
       "      <td>Yes</td>\n",
       "      <td>No</td>\n",
       "      <td>Yes</td>\n",
       "    </tr>\n",
       "    <tr>\n",
       "      <th>1</th>\n",
       "      <td>2</td>\n",
       "      <td>27-05-2024</td>\n",
       "      <td>Inside Rangamati</td>\n",
       "      <td>44</td>\n",
       "      <td>M</td>\n",
       "      <td>Redmi Note 12 Pro 8/128</td>\n",
       "      <td>15546.0</td>\n",
       "      <td>Yes</td>\n",
       "      <td>No</td>\n",
       "      <td>No</td>\n",
       "      <td>Yes</td>\n",
       "    </tr>\n",
       "    <tr>\n",
       "      <th>2</th>\n",
       "      <td>3</td>\n",
       "      <td>27-05-2024</td>\n",
       "      <td>Rangamati Sadar</td>\n",
       "      <td>45</td>\n",
       "      <td>M</td>\n",
       "      <td>R-70 Turbo 5G 6/128</td>\n",
       "      <td>26516.0</td>\n",
       "      <td>Yes</td>\n",
       "      <td>No</td>\n",
       "      <td>No</td>\n",
       "      <td>Yes</td>\n",
       "    </tr>\n",
       "    <tr>\n",
       "      <th>3</th>\n",
       "      <td>4</td>\n",
       "      <td>27-05-2024</td>\n",
       "      <td>Rangamati Sadar</td>\n",
       "      <td>46</td>\n",
       "      <td>M</td>\n",
       "      <td>R-70 Turbo 5G 6/128</td>\n",
       "      <td>21927.0</td>\n",
       "      <td>No</td>\n",
       "      <td>No</td>\n",
       "      <td>No</td>\n",
       "      <td>Yes</td>\n",
       "    </tr>\n",
       "    <tr>\n",
       "      <th>4</th>\n",
       "      <td>5</td>\n",
       "      <td>27-05-2024</td>\n",
       "      <td>Outside Rangamati</td>\n",
       "      <td>27</td>\n",
       "      <td>F</td>\n",
       "      <td>Vivo T3x 5G 8/128</td>\n",
       "      <td>16718.0</td>\n",
       "      <td>Yes</td>\n",
       "      <td>No</td>\n",
       "      <td>No</td>\n",
       "      <td>Yes</td>\n",
       "    </tr>\n",
       "  </tbody>\n",
       "</table>\n",
       "</div>"
      ],
      "text/plain": [
       "   Cus.ID        Date      Cus. Location  Age Gender              Mobile Name  \\\n",
       "0       1  27-05-2024    Rangamati Sadar   49      F      Galaxy A55 5G 8/128   \n",
       "1       2  27-05-2024   Inside Rangamati   44      M  Redmi Note 12 Pro 8/128   \n",
       "2       3  27-05-2024    Rangamati Sadar   45      M      R-70 Turbo 5G 6/128   \n",
       "3       4  27-05-2024    Rangamati Sadar   46      M      R-70 Turbo 5G 6/128   \n",
       "4       5  27-05-2024  Outside Rangamati   27      F        Vivo T3x 5G 8/128   \n",
       "\n",
       "   Sell Price Does he/she Come from Facebook Page?  \\\n",
       "0     17073.0                                   No   \n",
       "1     15546.0                                  Yes   \n",
       "2     26516.0                                  Yes   \n",
       "3     21927.0                                   No   \n",
       "4     16718.0                                  Yes   \n",
       "\n",
       "  Does he/she Followed Our Page? Did he/she buy any mobile before?  \\\n",
       "0                            Yes                                No   \n",
       "1                             No                                No   \n",
       "2                             No                                No   \n",
       "3                             No                                No   \n",
       "4                             No                                No   \n",
       "\n",
       "  Did he/she hear of our shop before?  \n",
       "0                                 Yes  \n",
       "1                                 Yes  \n",
       "2                                 Yes  \n",
       "3                                 Yes  \n",
       "4                                 Yes  "
      ]
     },
     "execution_count": 2,
     "metadata": {},
     "output_type": "execute_result"
    }
   ],
   "source": [
    "dataset = pd.read_csv('TechCorner_Sales_update.csv')\n",
    "dataset.head()"
   ]
  },
  {
   "cell_type": "markdown",
   "id": "49427db9",
   "metadata": {},
   "source": [
    "Description of the continuous variables of the dataset"
   ]
  },
  {
   "cell_type": "code",
   "execution_count": 3,
   "id": "af593557",
   "metadata": {},
   "outputs": [
    {
     "data": {
      "application/vnd.microsoft.datawrangler.viewer.v0+json": {
       "columns": [
        {
         "name": "index",
         "rawType": "object",
         "type": "string"
        },
        {
         "name": "Cus.ID",
         "rawType": "float64",
         "type": "float"
        },
        {
         "name": "Age",
         "rawType": "float64",
         "type": "float"
        },
        {
         "name": "Sell Price",
         "rawType": "float64",
         "type": "float"
        }
       ],
       "conversionMethod": "pd.DataFrame",
       "ref": "6385872b-8ca8-456d-9e2d-73c723499d4a",
       "rows": [
        [
         "count",
         "8871.0",
         "8871.0",
         "8871.0"
        ],
        [
         "mean",
         "4436.0",
         "34.04700710179236",
         "25068.38654041258"
        ],
        [
         "std",
         "2560.9814524904314",
         "9.592611528969623",
         "18032.80270998944"
        ],
        [
         "min",
         "1.0",
         "18.0",
         "12702.0"
        ],
        [
         "25%",
         "2218.5",
         "26.0",
         "17466.5"
        ],
        [
         "50%",
         "4436.0",
         "34.0",
         "21682.0"
        ],
        [
         "75%",
         "6653.5",
         "42.0",
         "25777.5"
        ],
        [
         "max",
         "8871.0",
         "50.0",
         "200465.0"
        ]
       ],
       "shape": {
        "columns": 3,
        "rows": 8
       }
      },
      "text/html": [
       "<div>\n",
       "<style scoped>\n",
       "    .dataframe tbody tr th:only-of-type {\n",
       "        vertical-align: middle;\n",
       "    }\n",
       "\n",
       "    .dataframe tbody tr th {\n",
       "        vertical-align: top;\n",
       "    }\n",
       "\n",
       "    .dataframe thead th {\n",
       "        text-align: right;\n",
       "    }\n",
       "</style>\n",
       "<table border=\"1\" class=\"dataframe\">\n",
       "  <thead>\n",
       "    <tr style=\"text-align: right;\">\n",
       "      <th></th>\n",
       "      <th>Cus.ID</th>\n",
       "      <th>Age</th>\n",
       "      <th>Sell Price</th>\n",
       "    </tr>\n",
       "  </thead>\n",
       "  <tbody>\n",
       "    <tr>\n",
       "      <th>count</th>\n",
       "      <td>8871.000000</td>\n",
       "      <td>8871.000000</td>\n",
       "      <td>8871.00000</td>\n",
       "    </tr>\n",
       "    <tr>\n",
       "      <th>mean</th>\n",
       "      <td>4436.000000</td>\n",
       "      <td>34.047007</td>\n",
       "      <td>25068.38654</td>\n",
       "    </tr>\n",
       "    <tr>\n",
       "      <th>std</th>\n",
       "      <td>2560.981452</td>\n",
       "      <td>9.592612</td>\n",
       "      <td>18032.80271</td>\n",
       "    </tr>\n",
       "    <tr>\n",
       "      <th>min</th>\n",
       "      <td>1.000000</td>\n",
       "      <td>18.000000</td>\n",
       "      <td>12702.00000</td>\n",
       "    </tr>\n",
       "    <tr>\n",
       "      <th>25%</th>\n",
       "      <td>2218.500000</td>\n",
       "      <td>26.000000</td>\n",
       "      <td>17466.50000</td>\n",
       "    </tr>\n",
       "    <tr>\n",
       "      <th>50%</th>\n",
       "      <td>4436.000000</td>\n",
       "      <td>34.000000</td>\n",
       "      <td>21682.00000</td>\n",
       "    </tr>\n",
       "    <tr>\n",
       "      <th>75%</th>\n",
       "      <td>6653.500000</td>\n",
       "      <td>42.000000</td>\n",
       "      <td>25777.50000</td>\n",
       "    </tr>\n",
       "    <tr>\n",
       "      <th>max</th>\n",
       "      <td>8871.000000</td>\n",
       "      <td>50.000000</td>\n",
       "      <td>200465.00000</td>\n",
       "    </tr>\n",
       "  </tbody>\n",
       "</table>\n",
       "</div>"
      ],
      "text/plain": [
       "            Cus.ID          Age    Sell Price\n",
       "count  8871.000000  8871.000000    8871.00000\n",
       "mean   4436.000000    34.047007   25068.38654\n",
       "std    2560.981452     9.592612   18032.80271\n",
       "min       1.000000    18.000000   12702.00000\n",
       "25%    2218.500000    26.000000   17466.50000\n",
       "50%    4436.000000    34.000000   21682.00000\n",
       "75%    6653.500000    42.000000   25777.50000\n",
       "max    8871.000000    50.000000  200465.00000"
      ]
     },
     "execution_count": 3,
     "metadata": {},
     "output_type": "execute_result"
    }
   ],
   "source": [
    "dataset.describe()"
   ]
  },
  {
   "cell_type": "markdown",
   "id": "9f0cebac",
   "metadata": {},
   "source": [
    "Check basic summary and structure of the dataset"
   ]
  },
  {
   "cell_type": "code",
   "execution_count": 4,
   "id": "f6f2958e",
   "metadata": {},
   "outputs": [
    {
     "name": "stdout",
     "output_type": "stream",
     "text": [
      "<class 'pandas.core.frame.DataFrame'>\n",
      "RangeIndex: 8871 entries, 0 to 8870\n",
      "Data columns (total 11 columns):\n",
      " #   Column                                Non-Null Count  Dtype  \n",
      "---  ------                                --------------  -----  \n",
      " 0   Cus.ID                                8871 non-null   int64  \n",
      " 1   Date                                  8871 non-null   object \n",
      " 2   Cus. Location                         8871 non-null   object \n",
      " 3   Age                                   8871 non-null   int64  \n",
      " 4   Gender                                8871 non-null   object \n",
      " 5   Mobile Name                           8871 non-null   object \n",
      " 6   Sell Price                            8871 non-null   float64\n",
      " 7   Does he/she Come from Facebook Page?  8871 non-null   object \n",
      " 8   Does he/she Followed Our Page?        8871 non-null   object \n",
      " 9   Did he/she buy any mobile before?     8871 non-null   object \n",
      " 10  Did he/she hear of our shop before?   8871 non-null   object \n",
      "dtypes: float64(1), int64(2), object(8)\n",
      "memory usage: 762.5+ KB\n"
     ]
    }
   ],
   "source": [
    "dataset.info()"
   ]
  },
  {
   "cell_type": "markdown",
   "id": "b795093c",
   "metadata": {},
   "source": [
    "Data set has column 'Date' that will be converted to datatime64 data type for use in anaylsis. Columns with long names will be given shorter names for reference in code.\n",
    "\n",
    "The description of the dataset indicates that Region Column will be encoded as Local or Non-Local"
   ]
  },
  {
   "cell_type": "code",
   "execution_count": 5,
   "id": "00d735f3",
   "metadata": {},
   "outputs": [],
   "source": [
    "# rename columns to remove spaces and make them easier to work with\n",
    "columns_renamed = {\n",
    "    'Cus. Location': 'Location',\n",
    "    'Mobile Name': 'Mobile_Name',\n",
    "    'Sell Price': 'Sell_Price',\n",
    "    'Does he/she Come from Facebook Page?': 'ComeFromFacebook',\n",
    "    'Does he/she Followed Our Page?': 'FollowFacebookPage',\n",
    "    'Did he/she buy any mobile before?': 'BoughtBefore',\n",
    "    'Did he/she hear of our shop before?': 'HeardOfShopBefore'\n",
    "}\n",
    "dataset.rename(columns=columns_renamed, inplace=True)\n",
    "\n",
    "# drop the Cus.ID column as it is not needed for analysis\n",
    "dataset.drop(columns=['Cus.ID'], inplace=True)\n"
   ]
  },
  {
   "cell_type": "markdown",
   "id": "c1875880",
   "metadata": {},
   "source": [
    "Convert Date column into a datetime64 "
   ]
  },
  {
   "cell_type": "code",
   "execution_count": 6,
   "id": "40faa82c",
   "metadata": {},
   "outputs": [
    {
     "data": {
      "application/vnd.microsoft.datawrangler.viewer.v0+json": {
       "columns": [
        {
         "name": "index",
         "rawType": "int64",
         "type": "integer"
        },
        {
         "name": "Date",
         "rawType": "datetime64[ns]",
         "type": "datetime"
        },
        {
         "name": "Location",
         "rawType": "object",
         "type": "string"
        },
        {
         "name": "Age",
         "rawType": "int64",
         "type": "integer"
        },
        {
         "name": "Gender",
         "rawType": "object",
         "type": "string"
        },
        {
         "name": "Mobile_Name",
         "rawType": "object",
         "type": "string"
        },
        {
         "name": "Sell_Price",
         "rawType": "float64",
         "type": "float"
        },
        {
         "name": "ComeFromFacebook",
         "rawType": "object",
         "type": "string"
        },
        {
         "name": "FollowFacebookPage",
         "rawType": "object",
         "type": "string"
        },
        {
         "name": "BoughtBefore",
         "rawType": "object",
         "type": "string"
        },
        {
         "name": "HeardOfShopBefore",
         "rawType": "object",
         "type": "string"
        }
       ],
       "conversionMethod": "pd.DataFrame",
       "ref": "72d1bb79-f5c3-44bc-8ae0-d846f3ee7d67",
       "rows": [
        [
         "0",
         "2024-05-27 00:00:00",
         "Rangamati Sadar",
         "49",
         "F",
         "Galaxy A55 5G 8/128",
         "17073.0",
         "No",
         "Yes",
         "No",
         "Yes"
        ],
        [
         "1",
         "2024-05-27 00:00:00",
         "Inside Rangamati",
         "44",
         "M",
         "Redmi Note 12 Pro 8/128",
         "15546.0",
         "Yes",
         "No",
         "No",
         "Yes"
        ],
        [
         "2",
         "2024-05-27 00:00:00",
         "Rangamati Sadar",
         "45",
         "M",
         "R-70 Turbo 5G 6/128",
         "26516.0",
         "Yes",
         "No",
         "No",
         "Yes"
        ],
        [
         "3",
         "2024-05-27 00:00:00",
         "Rangamati Sadar",
         "46",
         "M",
         "R-70 Turbo 5G 6/128",
         "21927.0",
         "No",
         "No",
         "No",
         "Yes"
        ],
        [
         "4",
         "2024-05-27 00:00:00",
         "Outside Rangamati",
         "27",
         "F",
         "Vivo T3x 5G 8/128",
         "16718.0",
         "Yes",
         "No",
         "No",
         "Yes"
        ]
       ],
       "shape": {
        "columns": 10,
        "rows": 5
       }
      },
      "text/html": [
       "<div>\n",
       "<style scoped>\n",
       "    .dataframe tbody tr th:only-of-type {\n",
       "        vertical-align: middle;\n",
       "    }\n",
       "\n",
       "    .dataframe tbody tr th {\n",
       "        vertical-align: top;\n",
       "    }\n",
       "\n",
       "    .dataframe thead th {\n",
       "        text-align: right;\n",
       "    }\n",
       "</style>\n",
       "<table border=\"1\" class=\"dataframe\">\n",
       "  <thead>\n",
       "    <tr style=\"text-align: right;\">\n",
       "      <th></th>\n",
       "      <th>Date</th>\n",
       "      <th>Location</th>\n",
       "      <th>Age</th>\n",
       "      <th>Gender</th>\n",
       "      <th>Mobile_Name</th>\n",
       "      <th>Sell_Price</th>\n",
       "      <th>ComeFromFacebook</th>\n",
       "      <th>FollowFacebookPage</th>\n",
       "      <th>BoughtBefore</th>\n",
       "      <th>HeardOfShopBefore</th>\n",
       "    </tr>\n",
       "  </thead>\n",
       "  <tbody>\n",
       "    <tr>\n",
       "      <th>0</th>\n",
       "      <td>2024-05-27</td>\n",
       "      <td>Rangamati Sadar</td>\n",
       "      <td>49</td>\n",
       "      <td>F</td>\n",
       "      <td>Galaxy A55 5G 8/128</td>\n",
       "      <td>17073.0</td>\n",
       "      <td>No</td>\n",
       "      <td>Yes</td>\n",
       "      <td>No</td>\n",
       "      <td>Yes</td>\n",
       "    </tr>\n",
       "    <tr>\n",
       "      <th>1</th>\n",
       "      <td>2024-05-27</td>\n",
       "      <td>Inside Rangamati</td>\n",
       "      <td>44</td>\n",
       "      <td>M</td>\n",
       "      <td>Redmi Note 12 Pro 8/128</td>\n",
       "      <td>15546.0</td>\n",
       "      <td>Yes</td>\n",
       "      <td>No</td>\n",
       "      <td>No</td>\n",
       "      <td>Yes</td>\n",
       "    </tr>\n",
       "    <tr>\n",
       "      <th>2</th>\n",
       "      <td>2024-05-27</td>\n",
       "      <td>Rangamati Sadar</td>\n",
       "      <td>45</td>\n",
       "      <td>M</td>\n",
       "      <td>R-70 Turbo 5G 6/128</td>\n",
       "      <td>26516.0</td>\n",
       "      <td>Yes</td>\n",
       "      <td>No</td>\n",
       "      <td>No</td>\n",
       "      <td>Yes</td>\n",
       "    </tr>\n",
       "    <tr>\n",
       "      <th>3</th>\n",
       "      <td>2024-05-27</td>\n",
       "      <td>Rangamati Sadar</td>\n",
       "      <td>46</td>\n",
       "      <td>M</td>\n",
       "      <td>R-70 Turbo 5G 6/128</td>\n",
       "      <td>21927.0</td>\n",
       "      <td>No</td>\n",
       "      <td>No</td>\n",
       "      <td>No</td>\n",
       "      <td>Yes</td>\n",
       "    </tr>\n",
       "    <tr>\n",
       "      <th>4</th>\n",
       "      <td>2024-05-27</td>\n",
       "      <td>Outside Rangamati</td>\n",
       "      <td>27</td>\n",
       "      <td>F</td>\n",
       "      <td>Vivo T3x 5G 8/128</td>\n",
       "      <td>16718.0</td>\n",
       "      <td>Yes</td>\n",
       "      <td>No</td>\n",
       "      <td>No</td>\n",
       "      <td>Yes</td>\n",
       "    </tr>\n",
       "  </tbody>\n",
       "</table>\n",
       "</div>"
      ],
      "text/plain": [
       "        Date           Location  Age Gender              Mobile_Name  \\\n",
       "0 2024-05-27    Rangamati Sadar   49      F      Galaxy A55 5G 8/128   \n",
       "1 2024-05-27   Inside Rangamati   44      M  Redmi Note 12 Pro 8/128   \n",
       "2 2024-05-27    Rangamati Sadar   45      M      R-70 Turbo 5G 6/128   \n",
       "3 2024-05-27    Rangamati Sadar   46      M      R-70 Turbo 5G 6/128   \n",
       "4 2024-05-27  Outside Rangamati   27      F        Vivo T3x 5G 8/128   \n",
       "\n",
       "   Sell_Price ComeFromFacebook FollowFacebookPage BoughtBefore  \\\n",
       "0     17073.0               No                Yes           No   \n",
       "1     15546.0              Yes                 No           No   \n",
       "2     26516.0              Yes                 No           No   \n",
       "3     21927.0               No                 No           No   \n",
       "4     16718.0              Yes                 No           No   \n",
       "\n",
       "  HeardOfShopBefore  \n",
       "0               Yes  \n",
       "1               Yes  \n",
       "2               Yes  \n",
       "3               Yes  \n",
       "4               Yes  "
      ]
     },
     "execution_count": 6,
     "metadata": {},
     "output_type": "execute_result"
    }
   ],
   "source": [
    "dataset.Date = pd.to_datetime(dataset.Date, dayfirst=True) # Convert the Date column to datetime format\n",
    "dataset.head()"
   ]
  },
  {
   "cell_type": "code",
   "execution_count": 7,
   "id": "c3e7cc0a",
   "metadata": {},
   "outputs": [
    {
     "data": {
      "text/plain": [
       "array(['Rangamati Sadar', 'Inside Rangamati', 'Outside Rangamati'],\n",
       "      dtype=object)"
      ]
     },
     "execution_count": 7,
     "metadata": {},
     "output_type": "execute_result"
    }
   ],
   "source": [
    "# unique Locations\n",
    "dataset.Location.unique()"
   ]
  },
  {
   "cell_type": "code",
   "execution_count": 8,
   "id": "c6707f0c",
   "metadata": {},
   "outputs": [
    {
     "data": {
      "application/vnd.microsoft.datawrangler.viewer.v0+json": {
       "columns": [
        {
         "name": "index",
         "rawType": "int64",
         "type": "integer"
        },
        {
         "name": "Date",
         "rawType": "datetime64[ns]",
         "type": "datetime"
        },
        {
         "name": "Location",
         "rawType": "object",
         "type": "string"
        },
        {
         "name": "Age",
         "rawType": "int64",
         "type": "integer"
        },
        {
         "name": "Gender",
         "rawType": "object",
         "type": "string"
        },
        {
         "name": "Mobile_Name",
         "rawType": "object",
         "type": "string"
        },
        {
         "name": "Sell_Price",
         "rawType": "float64",
         "type": "float"
        },
        {
         "name": "ComeFromFacebook",
         "rawType": "object",
         "type": "string"
        },
        {
         "name": "FollowFacebookPage",
         "rawType": "object",
         "type": "string"
        },
        {
         "name": "BoughtBefore",
         "rawType": "object",
         "type": "string"
        },
        {
         "name": "HeardOfShopBefore",
         "rawType": "object",
         "type": "string"
        }
       ],
       "conversionMethod": "pd.DataFrame",
       "ref": "dd617dfc-1fb6-4418-b072-a762a7d18cc7",
       "rows": [
        [
         "0",
         "2024-05-27 00:00:00",
         "Local",
         "49",
         "F",
         "Galaxy A55 5G 8/128",
         "17073.0",
         "No",
         "Yes",
         "No",
         "Yes"
        ],
        [
         "1",
         "2024-05-27 00:00:00",
         "Local",
         "44",
         "M",
         "Redmi Note 12 Pro 8/128",
         "15546.0",
         "Yes",
         "No",
         "No",
         "Yes"
        ],
        [
         "2",
         "2024-05-27 00:00:00",
         "Local",
         "45",
         "M",
         "R-70 Turbo 5G 6/128",
         "26516.0",
         "Yes",
         "No",
         "No",
         "Yes"
        ],
        [
         "3",
         "2024-05-27 00:00:00",
         "Local",
         "46",
         "M",
         "R-70 Turbo 5G 6/128",
         "21927.0",
         "No",
         "No",
         "No",
         "Yes"
        ],
        [
         "4",
         "2024-05-27 00:00:00",
         "Non-Local",
         "27",
         "F",
         "Vivo T3x 5G 8/128",
         "16718.0",
         "Yes",
         "No",
         "No",
         "Yes"
        ]
       ],
       "shape": {
        "columns": 10,
        "rows": 5
       }
      },
      "text/html": [
       "<div>\n",
       "<style scoped>\n",
       "    .dataframe tbody tr th:only-of-type {\n",
       "        vertical-align: middle;\n",
       "    }\n",
       "\n",
       "    .dataframe tbody tr th {\n",
       "        vertical-align: top;\n",
       "    }\n",
       "\n",
       "    .dataframe thead th {\n",
       "        text-align: right;\n",
       "    }\n",
       "</style>\n",
       "<table border=\"1\" class=\"dataframe\">\n",
       "  <thead>\n",
       "    <tr style=\"text-align: right;\">\n",
       "      <th></th>\n",
       "      <th>Date</th>\n",
       "      <th>Location</th>\n",
       "      <th>Age</th>\n",
       "      <th>Gender</th>\n",
       "      <th>Mobile_Name</th>\n",
       "      <th>Sell_Price</th>\n",
       "      <th>ComeFromFacebook</th>\n",
       "      <th>FollowFacebookPage</th>\n",
       "      <th>BoughtBefore</th>\n",
       "      <th>HeardOfShopBefore</th>\n",
       "    </tr>\n",
       "  </thead>\n",
       "  <tbody>\n",
       "    <tr>\n",
       "      <th>0</th>\n",
       "      <td>2024-05-27</td>\n",
       "      <td>Local</td>\n",
       "      <td>49</td>\n",
       "      <td>F</td>\n",
       "      <td>Galaxy A55 5G 8/128</td>\n",
       "      <td>17073.0</td>\n",
       "      <td>No</td>\n",
       "      <td>Yes</td>\n",
       "      <td>No</td>\n",
       "      <td>Yes</td>\n",
       "    </tr>\n",
       "    <tr>\n",
       "      <th>1</th>\n",
       "      <td>2024-05-27</td>\n",
       "      <td>Local</td>\n",
       "      <td>44</td>\n",
       "      <td>M</td>\n",
       "      <td>Redmi Note 12 Pro 8/128</td>\n",
       "      <td>15546.0</td>\n",
       "      <td>Yes</td>\n",
       "      <td>No</td>\n",
       "      <td>No</td>\n",
       "      <td>Yes</td>\n",
       "    </tr>\n",
       "    <tr>\n",
       "      <th>2</th>\n",
       "      <td>2024-05-27</td>\n",
       "      <td>Local</td>\n",
       "      <td>45</td>\n",
       "      <td>M</td>\n",
       "      <td>R-70 Turbo 5G 6/128</td>\n",
       "      <td>26516.0</td>\n",
       "      <td>Yes</td>\n",
       "      <td>No</td>\n",
       "      <td>No</td>\n",
       "      <td>Yes</td>\n",
       "    </tr>\n",
       "    <tr>\n",
       "      <th>3</th>\n",
       "      <td>2024-05-27</td>\n",
       "      <td>Local</td>\n",
       "      <td>46</td>\n",
       "      <td>M</td>\n",
       "      <td>R-70 Turbo 5G 6/128</td>\n",
       "      <td>21927.0</td>\n",
       "      <td>No</td>\n",
       "      <td>No</td>\n",
       "      <td>No</td>\n",
       "      <td>Yes</td>\n",
       "    </tr>\n",
       "    <tr>\n",
       "      <th>4</th>\n",
       "      <td>2024-05-27</td>\n",
       "      <td>Non-Local</td>\n",
       "      <td>27</td>\n",
       "      <td>F</td>\n",
       "      <td>Vivo T3x 5G 8/128</td>\n",
       "      <td>16718.0</td>\n",
       "      <td>Yes</td>\n",
       "      <td>No</td>\n",
       "      <td>No</td>\n",
       "      <td>Yes</td>\n",
       "    </tr>\n",
       "  </tbody>\n",
       "</table>\n",
       "</div>"
      ],
      "text/plain": [
       "        Date   Location  Age Gender              Mobile_Name  Sell_Price  \\\n",
       "0 2024-05-27      Local   49      F      Galaxy A55 5G 8/128     17073.0   \n",
       "1 2024-05-27      Local   44      M  Redmi Note 12 Pro 8/128     15546.0   \n",
       "2 2024-05-27      Local   45      M      R-70 Turbo 5G 6/128     26516.0   \n",
       "3 2024-05-27      Local   46      M      R-70 Turbo 5G 6/128     21927.0   \n",
       "4 2024-05-27  Non-Local   27      F        Vivo T3x 5G 8/128     16718.0   \n",
       "\n",
       "  ComeFromFacebook FollowFacebookPage BoughtBefore HeardOfShopBefore  \n",
       "0               No                Yes           No               Yes  \n",
       "1              Yes                 No           No               Yes  \n",
       "2              Yes                 No           No               Yes  \n",
       "3               No                 No           No               Yes  \n",
       "4              Yes                 No           No               Yes  "
      ]
     },
     "execution_count": 8,
     "metadata": {},
     "output_type": "execute_result"
    }
   ],
   "source": [
    "dataset['Location'] = dataset.Location.apply(\n",
    "    lambda x: 'Local' if x in ['Rangamati Sadar', 'Inside Rangamati'] else 'Non-Local')\n",
    "dataset.head()"
   ]
  },
  {
   "cell_type": "markdown",
   "id": "5714a09e",
   "metadata": {},
   "source": [
    "# Exploratory Data Analysis - EDA"
   ]
  },
  {
   "cell_type": "markdown",
   "id": "7d7bcf40",
   "metadata": {},
   "source": [
    "### Distribution of the purchases by location"
   ]
  },
  {
   "cell_type": "code",
   "execution_count": 9,
   "id": "9117e002",
   "metadata": {},
   "outputs": [
    {
     "data": {
      "image/png": "[encoded data removed]",
      "text/plain": [
       "<Figure size 1200x800 with 1 Axes>"
      ]
     },
     "metadata": {},
     "output_type": "display_data"
    }
   ],
   "source": [
    "# use a pie chart to show the distribution of Local vs Non-Local customers\n",
    "plt.figure(figsize=(12,8))\n",
    "plt.pie(\n",
    "    dataset.Location.value_counts(), \n",
    "    labels=dataset.Location.value_counts().index, \n",
    "    autopct='%1.1f%%', \n",
    "    startangle=140\n",
    "    )\n",
    "plt.title('Distribution of Local vs Non-Local Customers', fontsize=16, fontweight='bold')\n",
    "plt.show()"
   ]
  },
  {
   "cell_type": "markdown",
   "id": "0ed12f82",
   "metadata": {},
   "source": [
    "The majority of customers 66.2 percent (66.2%) are local customers in the Rangamati region"
   ]
  },
  {
   "cell_type": "markdown",
   "id": "6e09d87f",
   "metadata": {},
   "source": [
    "### Distribution of the Age Demographic"
   ]
  },
  {
   "cell_type": "code",
   "execution_count": 10,
   "id": "c22b4cb6",
   "metadata": {},
   "outputs": [
    {
     "data": {
      "image/png": "[encoded data removed]",
      "text/plain": [
       "<Figure size 624.625x500 with 1 Axes>"
      ]
     },
     "metadata": {},
     "output_type": "display_data"
    }
   ],
   "source": [
    "\n",
    "sns.displot(data=dataset, x='Age', bins=30, hue='Location')\n",
    "plt.title('Age Distribution by Location', fontsize=16, fontweight='bold')\n",
    "plt.xlabel('Age', fontsize=14, fontweight='bold')\n",
    "plt.xticks(rotation=45)\n",
    "plt.ylabel('Count', fontsize=14, fontweight='bold')\n",
    "plt.show()"
   ]
  },
  {
   "cell_type": "markdown",
   "id": "4737eb64",
   "metadata": {},
   "source": [
    "The data shows three distinct age groups 18, 35, 50yo making majority of purchases by volume. This trend is seen across both Local and Non-Local regions. The distribution of the age groups shows little variation in total purchases for all other ages."
   ]
  },
  {
   "cell_type": "markdown",
   "id": "ab738f17",
   "metadata": {},
   "source": [
    "### Customer behaviour pattern\n",
    "The customer behavious patter will be seen in the listing how customer have responded to Facebook, are new or returning customers."
   ]
  },
  {
   "cell_type": "code",
   "execution_count": 11,
   "id": "f07db6a4",
   "metadata": {},
   "outputs": [
    {
     "data": {
      "image/png": "[encoded data removed]",
      "text/plain": [
       "<Figure size 1500x1000 with 4 Axes>"
      ]
     },
     "metadata": {},
     "output_type": "display_data"
    }
   ],
   "source": [
    "social_media_responses = {\n",
    "    'ComeFromFacebook' : 'Come from Facebook-orgin',\n",
    "    'FollowFacebookPage' : 'Follows Facebook', \n",
    "    'HeardOfShopBefore' : 'Heard of Shop Before', \n",
    "    'BoughtBefore': 'Bought Before (returning customer)'}\n",
    "plt.figure(figsize=(15,10))\n",
    "for i , responses in enumerate(list(social_media_responses.keys()), 1):\n",
    "    plt.subplot(2, 2, i)\n",
    "    sns.histplot(dataset, x=responses, bins=30, stat='probability', hue='Gender', multiple='stack')\n",
    "    plt.title(f'Distribution of Customers who {social_media_responses[responses]}', {'fontweight':'bold', 'c': 'black'})\n",
    "    plt.xlabel('Responses')\n",
    "    plt.ylabel('Probability')\n",
    "plt.tight_layout()\n",
    "plt.show()"
   ]
  },
  {
   "cell_type": "markdown",
   "id": "fb1f68d4",
   "metadata": {},
   "source": [
    "The gender demographic of all respondents to the yes/no questions has and even distribution between male and female. From the above, 35% of purchases came through Facebook. 75% of all purchases are from new customers.  "
   ]
  },
  {
   "cell_type": "markdown",
   "id": "7d40b313",
   "metadata": {},
   "source": [
    "### Analysis of Customer Mobile Brand Preference"
   ]
  },
  {
   "cell_type": "markdown",
   "id": "dfa63bfe",
   "metadata": {},
   "source": [
    "The mobile brands purchased by volume "
   ]
  },
  {
   "cell_type": "code",
   "execution_count": 12,
   "id": "b0c8fcab",
   "metadata": {},
   "outputs": [
    {
     "data": {
      "application/vnd.microsoft.datawrangler.viewer.v0+json": {
       "columns": [
        {
         "name": "Mobile_Name",
         "rawType": "object",
         "type": "string"
        },
        {
         "name": "Sell_Price",
         "rawType": "float64",
         "type": "float"
        },
        {
         "name": "Mobile_Name",
         "rawType": "int64",
         "type": "integer"
        }
       ],
       "conversionMethod": "pd.DataFrame",
       "ref": "72d54cc4-cc50-4dfe-a277-cac43d8f5814",
       "rows": [
        [
         "iPhone 16 Pro Max 1TB",
         "40967.77868852459",
         "488"
        ],
        [
         "iPhone 16 Pro 256GB",
         "33622.37811900192",
         "521"
        ],
        [
         "Galaxy S24 Ultra 12/256",
         "31138.75785582255",
         "541"
        ],
        [
         "Pixel 8 Pro 12/256",
         "29625.450281425892",
         "533"
        ],
        [
         "Pixel 7a 8/128",
         "26471.629343629345",
         "518"
        ],
        [
         "Galaxy A55 5G 8/128",
         "26346.226053639846",
         "522"
        ],
        [
         "iQOO Neo 9 Pro 5G 12/256",
         "25777.828685258963",
         "502"
        ],
        [
         "Note 14 Pro 5G 8/256",
         "24550.424242424244",
         "495"
        ],
        [
         "Moto G85 5G 8/128",
         "22295.0375",
         "560"
        ],
        [
         "Redmi Note 12 Pro 8/128",
         "22221.109848484848",
         "528"
        ],
        [
         "Galaxy M35 5G 8/128",
         "22033.534090909092",
         "528"
        ],
        [
         "Vivo T3x 5G 8/128",
         "21877.400778210118",
         "514"
        ],
        [
         "R-70 Turbo 5G 6/128",
         "21218.755381604697",
         "511"
        ],
        [
         "Vivo Y200 5G 6/128",
         "20982.311538461538",
         "520"
        ],
        [
         "iQOO Z7 5G 6/128",
         "20409.383141762453",
         "522"
        ],
        [
         "Note 11S 6/128",
         "19538.154275092937",
         "538"
        ],
        [
         "Narzo N53 4/64",
         "18230.67358490566",
         "530"
        ]
       ],
       "shape": {
        "columns": 2,
        "rows": 17
       }
      },
      "text/html": [
       "<div>\n",
       "<style scoped>\n",
       "    .dataframe tbody tr th:only-of-type {\n",
       "        vertical-align: middle;\n",
       "    }\n",
       "\n",
       "    .dataframe tbody tr th {\n",
       "        vertical-align: top;\n",
       "    }\n",
       "\n",
       "    .dataframe thead th {\n",
       "        text-align: right;\n",
       "    }\n",
       "</style>\n",
       "<table border=\"1\" class=\"dataframe\">\n",
       "  <thead>\n",
       "    <tr style=\"text-align: right;\">\n",
       "      <th></th>\n",
       "      <th>Sell_Price</th>\n",
       "      <th>Mobile_Name</th>\n",
       "    </tr>\n",
       "    <tr>\n",
       "      <th>Mobile_Name</th>\n",
       "      <th></th>\n",
       "      <th></th>\n",
       "    </tr>\n",
       "  </thead>\n",
       "  <tbody>\n",
       "    <tr>\n",
       "      <th>iPhone 16 Pro Max 1TB</th>\n",
       "      <td>40967.778689</td>\n",
       "      <td>488</td>\n",
       "    </tr>\n",
       "    <tr>\n",
       "      <th>iPhone 16 Pro 256GB</th>\n",
       "      <td>33622.378119</td>\n",
       "      <td>521</td>\n",
       "    </tr>\n",
       "    <tr>\n",
       "      <th>Galaxy S24 Ultra 12/256</th>\n",
       "      <td>31138.757856</td>\n",
       "      <td>541</td>\n",
       "    </tr>\n",
       "    <tr>\n",
       "      <th>Pixel 8 Pro 12/256</th>\n",
       "      <td>29625.450281</td>\n",
       "      <td>533</td>\n",
       "    </tr>\n",
       "    <tr>\n",
       "      <th>Pixel 7a 8/128</th>\n",
       "      <td>26471.629344</td>\n",
       "      <td>518</td>\n",
       "    </tr>\n",
       "    <tr>\n",
       "      <th>Galaxy A55 5G 8/128</th>\n",
       "      <td>26346.226054</td>\n",
       "      <td>522</td>\n",
       "    </tr>\n",
       "    <tr>\n",
       "      <th>iQOO Neo 9 Pro 5G 12/256</th>\n",
       "      <td>25777.828685</td>\n",
       "      <td>502</td>\n",
       "    </tr>\n",
       "    <tr>\n",
       "      <th>Note 14 Pro 5G 8/256</th>\n",
       "      <td>24550.424242</td>\n",
       "      <td>495</td>\n",
       "    </tr>\n",
       "    <tr>\n",
       "      <th>Moto G85 5G 8/128</th>\n",
       "      <td>22295.037500</td>\n",
       "      <td>560</td>\n",
       "    </tr>\n",
       "    <tr>\n",
       "      <th>Redmi Note 12 Pro 8/128</th>\n",
       "      <td>22221.109848</td>\n",
       "      <td>528</td>\n",
       "    </tr>\n",
       "    <tr>\n",
       "      <th>Galaxy M35 5G 8/128</th>\n",
       "      <td>22033.534091</td>\n",
       "      <td>528</td>\n",
       "    </tr>\n",
       "    <tr>\n",
       "      <th>Vivo T3x 5G 8/128</th>\n",
       "      <td>21877.400778</td>\n",
       "      <td>514</td>\n",
       "    </tr>\n",
       "    <tr>\n",
       "      <th>R-70 Turbo 5G 6/128</th>\n",
       "      <td>21218.755382</td>\n",
       "      <td>511</td>\n",
       "    </tr>\n",
       "    <tr>\n",
       "      <th>Vivo Y200 5G 6/128</th>\n",
       "      <td>20982.311538</td>\n",
       "      <td>520</td>\n",
       "    </tr>\n",
       "    <tr>\n",
       "      <th>iQOO Z7 5G 6/128</th>\n",
       "      <td>20409.383142</td>\n",
       "      <td>522</td>\n",
       "    </tr>\n",
       "    <tr>\n",
       "      <th>Note 11S 6/128</th>\n",
       "      <td>19538.154275</td>\n",
       "      <td>538</td>\n",
       "    </tr>\n",
       "    <tr>\n",
       "      <th>Narzo N53 4/64</th>\n",
       "      <td>18230.673585</td>\n",
       "      <td>530</td>\n",
       "    </tr>\n",
       "  </tbody>\n",
       "</table>\n",
       "</div>"
      ],
      "text/plain": [
       "                            Sell_Price  Mobile_Name\n",
       "Mobile_Name                                        \n",
       "iPhone 16 Pro Max 1TB     40967.778689          488\n",
       "iPhone 16 Pro 256GB       33622.378119          521\n",
       "Galaxy S24 Ultra 12/256   31138.757856          541\n",
       "Pixel 8 Pro 12/256        29625.450281          533\n",
       "Pixel 7a 8/128            26471.629344          518\n",
       "Galaxy A55 5G 8/128       26346.226054          522\n",
       "iQOO Neo 9 Pro 5G 12/256  25777.828685          502\n",
       "Note 14 Pro 5G 8/256      24550.424242          495\n",
       "Moto G85 5G 8/128         22295.037500          560\n",
       "Redmi Note 12 Pro 8/128   22221.109848          528\n",
       "Galaxy M35 5G 8/128       22033.534091          528\n",
       "Vivo T3x 5G 8/128         21877.400778          514\n",
       "R-70 Turbo 5G 6/128       21218.755382          511\n",
       "Vivo Y200 5G 6/128        20982.311538          520\n",
       "iQOO Z7 5G 6/128          20409.383142          522\n",
       "Note 11S 6/128            19538.154275          538\n",
       "Narzo N53 4/64            18230.673585          530"
      ]
     },
     "execution_count": 12,
     "metadata": {},
     "output_type": "execute_result"
    }
   ],
   "source": [
    "dataset.groupby(['Mobile_Name']).agg({'Sell_Price': 'mean', 'Mobile_Name': 'count'}).sort_values(by='Sell_Price', ascending=False)"
   ]
  }
 ],
 "metadata": {
  "kernelspec": {
   "display_name": "base",
   "language": "python",
   "name": "python3"
  },
  "language_info": {
   "codemirror_mode": {
    "name": "ipython",
    "version": 3
   },
   "file_extension": ".py",
   "mimetype": "text/x-python",
   "name": "python",
   "nbconvert_exporter": "python",
   "pygments_lexer": "ipython3",
   "version": "3.12.4"
  }
 },
 "nbformat": 4,
 "nbformat_minor": 5
}
